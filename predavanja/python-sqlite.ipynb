{
 "cells": [
  {
   "cell_type": "markdown",
   "metadata": {},
   "source": [
    "# Primer - BBC\n",
    "\n",
    "* Uporabimo bazo [`bbc.db`](bbc.db).\n",
    "* Izpišimo imena vseh evropskih držav."
   ]
  },
  {
   "cell_type": "markdown",
   "metadata": {},
   "source": [
    "Uvozimo podatkovni vmesnik in se povežimo na bazo."
   ]
  },
  {
   "cell_type": "code",
   "execution_count": null,
   "metadata": {},
   "outputs": [],
   "source": [
    "import sqlite3 as dbapi\n",
    "povezava = dbapi.connect(\"bbc.db\")\n",
    "kazalec = povezava.cursor()"
   ]
  },
  {
   "cell_type": "markdown",
   "metadata": {},
   "source": [
    "Zapišimo naš ukaz in ga izvedimo."
   ]
  },
  {
   "cell_type": "code",
   "execution_count": null,
   "metadata": {},
   "outputs": [],
   "source": [
    "sql = \"SELECT * FROM bbc WHERE region = 'Europe'\"\n",
    "kazalec.execute(sql)        # izvedemo ukaz"
   ]
  },
  {
   "cell_type": "markdown",
   "metadata": {},
   "source": [
    "Preberimo celoten rezultat v seznam in izpišimo imena držav."
   ]
  },
  {
   "cell_type": "code",
   "execution_count": null,
   "metadata": {},
   "outputs": [],
   "source": [
    "zapisi = kazalec.fetchall() # preberemo tabelo z rezultati\n",
    "for vrstica in zapisi:\n",
    "    print(vrstica[0])      # ime je prvi element nabora"
   ]
  },
  {
   "cell_type": "code",
   "execution_count": null,
   "metadata": {},
   "outputs": [],
   "source": [
    "zapisi"
   ]
  },
  {
   "cell_type": "markdown",
   "metadata": {},
   "source": [
    "Namesto tega bi lahko z zanko `for` brali zapise enega po enega."
   ]
  },
  {
   "cell_type": "code",
   "execution_count": null,
   "metadata": {},
   "outputs": [],
   "source": [
    "for ime, regija, povrsina, prebivalstvo, bdp in kazalec:\n",
    "    print(ime, povrsina)"
   ]
  },
  {
   "cell_type": "markdown",
   "metadata": {},
   "source": [
    "Lahko pa tudi ročno beremo vrstico po vrstico."
   ]
  },
  {
   "cell_type": "code",
   "execution_count": null,
   "metadata": {},
   "outputs": [],
   "source": [
    "kazalec.fetchone()"
   ]
  },
  {
   "cell_type": "code",
   "execution_count": null,
   "metadata": {},
   "outputs": [],
   "source": [
    "next(kazalec)"
   ]
  },
  {
   "cell_type": "markdown",
   "metadata": {},
   "source": [
    "Pristope lahko tudi kombiniramo."
   ]
  },
  {
   "cell_type": "code",
   "execution_count": null,
   "metadata": {},
   "outputs": [],
   "source": [
    "for ime, *_, bdp in kazalec:\n",
    "    print(ime, bdp)\n",
    "    if ime == 'Slovenia':\n",
    "        break\n",
    "print(kazalec.fetchmany(5))\n",
    "print(kazalec.fetchall())"
   ]
  },
  {
   "cell_type": "markdown",
   "metadata": {},
   "source": [
    "Nazadnje zaprimo kurzor in povezavo na bazo."
   ]
  },
  {
   "cell_type": "code",
   "execution_count": null,
   "metadata": {},
   "outputs": [],
   "source": [
    "kazalec.close()\n",
    "povezava.close()"
   ]
  },
  {
   "cell_type": "markdown",
   "metadata": {},
   "source": [
    "# Še en primer"
   ]
  },
  {
   "cell_type": "code",
   "execution_count": null,
   "metadata": {},
   "outputs": [],
   "source": [
    "import sqlite3 as dbapi\n",
    "# Povežemo se na novo bazo - s tem jo ustvarimo\n",
    "conn = dbapi.connect(\"testdb.sqlite\")\n",
    "cur = conn.cursor()                        # Odpremo kazalec\n",
    "cur.execute(\"DROP TABLE IF EXISTS test;\")  # Zbrišemo tabelo, če že obstaja\n",
    "# Izvedemo ukaz - ustvarimo tabelo\n",
    "cur.execute(\"\"\"\n",
    "      CREATE TABLE test (\n",
    "        id   integer PRIMARY KEY AUTOINCREMENT,\n",
    "        num  integer,\n",
    "        data text\n",
    "      );\n",
    "    \"\"\")\n",
    "# Vstavimo podatke v tabelo\n",
    "cur.execute(\"INSERT INTO test (num, data) VALUES (100, 'KU-KU');\")\n",
    "cur.execute(\"SELECT * FROM test;\")         # Preberemo zapisane podatke\n",
    "rezultat  = cur.fetchone()                 # Hočemo le eno vrstico\n",
    "print(rezultat)                            # Izpiše se (1, 100, \"KU-KU\")\n",
    "conn.commit()                              # Poskrbimo, da so spremembe trajne\n",
    "# Zapremo povezave z bazo\n",
    "cur.close()\n",
    "conn.close()"
   ]
  },
  {
   "cell_type": "markdown",
   "metadata": {},
   "source": [
    "Kaj pa, če gre kaj narobe? V vsakem primeru želimo zapreti povezave - to lahko dosežemo z blokom `finally`."
   ]
  },
  {
   "cell_type": "code",
   "execution_count": null,
   "metadata": {},
   "outputs": [],
   "source": [
    "import sqlite3 as dbapi\n",
    "# Povežemo se na novo bazo - s tem jo ustvarimo\n",
    "conn = dbapi.connect(\"testdb.sqlite\")\n",
    "try:\n",
    "    cur = conn.cursor()                            # Odpremo kazalec\n",
    "    try:\n",
    "        cur.execute(\"DROP TABLE IF EXISTS test;\")  # Zbrišemo tabelo, če že obstaja\n",
    "        # Izvedemo ukaz - ustvarimo tabelo\n",
    "        cur.execute(\"\"\"\n",
    "              CREATE TABLE test (\n",
    "                id   integer PRIMARY KEY AUTOINCREMENT,\n",
    "                num  integer,\n",
    "                data text\n",
    "              );\n",
    "            \"\"\")\n",
    "        # Vstavimo podatke v tabelo\n",
    "        cur.execute(\"INSERT INTO test (num, data) VALUES (100, 'KU-KU');\")\n",
    "        cur.execute(\"SELECT * FROM test;\")         # Preberemo zapisane podatke\n",
    "        rezultat  = cur.fetchone()                 # Hočemo le eno vrstico\n",
    "        print(rezultat)                            # Izpiše se (1, 100, \"KU-KU\")\n",
    "        # Vstavimo še eno vrstico\n",
    "        cur.execute(\"INSERT INTO test (id, num, data) VALUES (1, 200, 'kaj pa zdaj?');\")\n",
    "        # Tukaj pride do napake, saj bi se ponovila vrednost v stolpcu id\n",
    "        conn.commit()                              # Poskrbimo, da so spremembe trajne\n",
    "    finally:\n",
    "        # Zapremo povezavo s kazalcem\n",
    "        print(\"Zapiramo kazalec\")\n",
    "        cur.close()\n",
    "except dbapi.IntegrityError as ex:\n",
    "    conn.rollback()                                # Prekličemo spremembe\n",
    "    print(f\"Prišlo je do napake: {ex}!\")\n",
    "    cur = conn.cursor()                            # Odpremo nov kazalec, ker smo starega zaprli\n",
    "    cur.execute(\"SELECT * FROM test;\")             # Preberemo zapisane podatke\n",
    "    rezultat  = cur.fetchone()                     # Hočemo le eno vrstico\n",
    "    print(rezultat)                                # Ni take vrstice, dobimo None\n",
    "    cur.close()\n",
    "finally:\n",
    "    # Zapremo povezavo z bazo\n",
    "    print(\"Zapiramo povezavo z bazo\")\n",
    "    conn.close()"
   ]
  },
  {
   "cell_type": "markdown",
   "metadata": {},
   "source": [
    "# Uporaba `with`\n",
    "\n",
    "Z `ẁith` poskrbimo za potrditev transakcije ob uspešnem izvajanju oziroma za preklic ob napaki."
   ]
  },
  {
   "cell_type": "code",
   "execution_count": null,
   "metadata": {},
   "outputs": [],
   "source": [
    "import sqlite3 as dbapi\n",
    "conn = dbapi.connect(\"testdb.sqlite\")\n",
    "cur = conn.cursor()\n",
    "try:\n",
    "    with conn:\n",
    "        cur.execute(\"INSERT INTO test (num, data) VALUES (100, 'prva vrstica');\")\n",
    "        cur.execute(\"\"\"\n",
    "            INSERT INTO test (id, num, data)\n",
    "            VALUES (2, 200, 'kaj pa zdaj?');\n",
    "            \"\"\")\n",
    "        cur.execute(\"INSERT INTO test (num, data) VALUES (300, 'še nekaj');\")\n",
    "except dbapi.IntegrityError as ex:\n",
    "    print(f\"Napaka: {ex}\")"
   ]
  },
  {
   "cell_type": "markdown",
   "metadata": {},
   "source": [
    "Poglejmo, kaj se nahaja v tabeli."
   ]
  },
  {
   "cell_type": "code",
   "execution_count": null,
   "metadata": {},
   "outputs": [],
   "source": [
    "cur.execute(\"SELECT * FROM test;\")\n",
    "cur.fetchall()"
   ]
  },
  {
   "cell_type": "markdown",
   "metadata": {},
   "source": [
    "Kurzor in povezava sta ostala odprta, tako da ju na koncu zapremo."
   ]
  },
  {
   "cell_type": "code",
   "execution_count": null,
   "metadata": {},
   "outputs": [],
   "source": [
    "cur.close()\n",
    "conn.close()"
   ]
  },
  {
   "cell_type": "markdown",
   "metadata": {},
   "source": [
    "# Parametriziranje ukazov SQL\n",
    "\n",
    "Parametre lahko vstavljamo v ukaze SQL tako, da na njihova mesta zapišemo `?` ali ime parametra za `:`, njihove vrednosti pa podamo z drugim parametrom metode `execute`."
   ]
  },
  {
   "cell_type": "code",
   "execution_count": null,
   "metadata": {},
   "outputs": [],
   "source": [
    "import sqlite3 as dbapi\n",
    "conn = dbapi.connect(\"bbc.db\")"
   ]
  },
  {
   "cell_type": "code",
   "execution_count": null,
   "metadata": {},
   "outputs": [],
   "source": [
    "def drzava(conn, ime):\n",
    "    cur = conn.cursor()\n",
    "    try:\n",
    "        cur.execute(\"SELECT * FROM bbc WHERE name = ?;\", (ime, ))\n",
    "        return cur.fetchone()\n",
    "    finally:\n",
    "        cur.close()"
   ]
  },
  {
   "cell_type": "code",
   "execution_count": null,
   "metadata": {},
   "outputs": [],
   "source": [
    "drzava(conn, 'Slovenia')"
   ]
  },
  {
   "cell_type": "code",
   "execution_count": null,
   "metadata": {},
   "outputs": [],
   "source": [
    "def prebivalstvo(conn, min, max):\n",
    "    cur = conn.cursor()\n",
    "    try:\n",
    "        cur.execute(\"\"\"\n",
    "              SELECT * FROM bbc\n",
    "               WHERE population BETWEEN ? AND ?;\n",
    "            \"\"\", [min, max])\n",
    "        return cur.fetchall()\n",
    "    finally:\n",
    "        cur.close()"
   ]
  },
  {
   "cell_type": "code",
   "execution_count": null,
   "metadata": {},
   "outputs": [],
   "source": [
    "prebivalstvo(conn, 1000000, 10000000)"
   ]
  },
  {
   "cell_type": "code",
   "execution_count": null,
   "metadata": {},
   "outputs": [],
   "source": [
    "def prebivalstvo_povrsina(conn, vrednost):\n",
    "    cur = conn.cursor()\n",
    "    try:\n",
    "        cur.execute(\"\"\"\n",
    "              SELECT * FROM bbc\n",
    "               WHERE population >= :vrednost AND\n",
    "                     area >= :vrednost;\n",
    "            \"\"\", {'vrednost': vrednost})\n",
    "        return cur.fetchall()\n",
    "    finally:\n",
    "        cur.close()"
   ]
  },
  {
   "cell_type": "code",
   "execution_count": null,
   "metadata": {},
   "outputs": [],
   "source": [
    "prebivalstvo_povrsina(conn, 2000000)"
   ]
  },
  {
   "cell_type": "code",
   "execution_count": null,
   "metadata": {},
   "outputs": [],
   "source": [
    "conn.close()"
   ]
  },
  {
   "cell_type": "markdown",
   "metadata": {},
   "source": [
    "# SQL injection\n",
    "\n",
    "Če nismo pazljivi pri vstavljanju podatkov v stavke SQL, lahko zlonameren uporabnik doseže, da se izvedejo ukazi, ki jih razvijalec aplikacije ni predvidel."
   ]
  },
  {
   "cell_type": "markdown",
   "metadata": {},
   "source": [
    "Denimo, da imamo v bazi tabelo uporabnikov, ki hrani njihova uporabniška imena, gesla in zastavico, ali gre za administratorja.\n",
    "\n",
    "**Opomba:** v praksi gesel nikoli ne hranimo v bazi v čisti obliki!"
   ]
  },
  {
   "cell_type": "code",
   "execution_count": null,
   "metadata": {},
   "outputs": [],
   "source": [
    "import sqlite3 as dbapi\n",
    "conn = dbapi.connect(\"testdb.sqlite\")\n",
    "conn.set_trace_callback(print)\n",
    "cur = conn.cursor()\n",
    "\n",
    "try:\n",
    "    with conn:\n",
    "        cur.executescript(\"\"\"\n",
    "              DROP TABLE IF EXISTS uporabnik;\n",
    "              CREATE TABLE uporabnik (\n",
    "                id              integer PRIMARY KEY AUTOINCREMENT,\n",
    "                uporabnisko_ime text    NOT NULL UNIQUE,\n",
    "                geslo           text    NOT NULL,\n",
    "                admin           integer NOT NULL DEFAULT 0\n",
    "              );\n",
    "            \"\"\")\n",
    "        cur.executemany(\"\"\"\n",
    "              INSERT INTO uporabnik (uporabnisko_ime, geslo, admin)\n",
    "              VALUES (?, ?, ?)\n",
    "            \"\"\", [('admin', '$kr1wn0G35l0', 1),\n",
    "                  ('janez', 'geslo123', 0)])\n",
    "finally:\n",
    "    cur.close()"
   ]
  },
  {
   "cell_type": "markdown",
   "metadata": {},
   "source": [
    "Denimo, da s sledečo funkcijo preverjamo podatke, ki jih uporabnik vnese v prijavni obrazec. Ob uspešni prijavi funkcija vrne par `(id, admin)`, kjer je `id` zaporedna številka uporabnika, `admin` pa zastavica, ki pove, ali je uporabnik administrator. Ob neuspešni prijavi (napačno uporabniško ime ali geslo) funkcija vrne `None`."
   ]
  },
  {
   "cell_type": "code",
   "execution_count": null,
   "metadata": {},
   "outputs": [],
   "source": [
    "def prijava_slaba(conn, uporabnisko_ime, geslo):\n",
    "    cur = conn.cursor()\n",
    "    try:\n",
    "        cur.execute(f\"\"\"\n",
    "              SELECT id, admin FROM uporabnik\n",
    "               WHERE uporabnisko_ime = '{uporabnisko_ime}' AND\n",
    "                     geslo = '{geslo}';\n",
    "            \"\"\")\n",
    "        return cur.fetchone()\n",
    "    finally:\n",
    "        cur.close()"
   ]
  },
  {
   "cell_type": "markdown",
   "metadata": {},
   "source": [
    "Preverimo delovanje funkcije na nekaj primerih."
   ]
  },
  {
   "cell_type": "code",
   "execution_count": null,
   "metadata": {},
   "outputs": [],
   "source": [
    "prijava_slaba(conn, 'janez', 'geslo123')"
   ]
  },
  {
   "cell_type": "code",
   "execution_count": null,
   "metadata": {},
   "outputs": [],
   "source": [
    "prijava_slaba(conn, 'janez', 'napacno_geslo')"
   ]
  },
  {
   "cell_type": "code",
   "execution_count": null,
   "metadata": {},
   "outputs": [],
   "source": [
    "prijava_slaba(conn, 'micka', 'geslo123')"
   ]
  },
  {
   "cell_type": "markdown",
   "metadata": {},
   "source": [
    "Ob uporabi zgornje funkcije lahko zlonameren uporabnik sestavi take vhodne podatke, da bo funkcija vrnila podatke uporabnika `admin` z administratorskimi pravicami, čeprav zanj ne pozna gesla."
   ]
  },
  {
   "cell_type": "code",
   "execution_count": null,
   "metadata": {},
   "outputs": [],
   "source": [
    "prijava_slaba(conn, \"admin' OR 0 AND --\", \"\")"
   ]
  },
  {
   "cell_type": "markdown",
   "metadata": {},
   "source": [
    "Tudi, če uporabnik ni zlonameren, lahko morda povzroči napako v delovanju programa."
   ]
  },
  {
   "cell_type": "code",
   "execution_count": null,
   "metadata": {},
   "outputs": [],
   "source": [
    "prijava_slaba(conn, \"franci\", \"ges'lce\")"
   ]
  },
  {
   "cell_type": "markdown",
   "metadata": {},
   "source": [
    "Zapišimo popravljeno funkcijo za prijavo."
   ]
  },
  {
   "cell_type": "code",
   "execution_count": null,
   "metadata": {},
   "outputs": [],
   "source": [
    "def prijava_dobra(conn, uporabnisko_ime, geslo):\n",
    "    cur = conn.cursor()\n",
    "    try:\n",
    "        cur.execute(\"\"\"\n",
    "              SELECT id, admin FROM uporabnik\n",
    "               WHERE uporabnisko_ime = ? AND\n",
    "                     geslo = ?;\n",
    "            \"\"\", (uporabnisko_ime, geslo))\n",
    "        return cur.fetchone()\n",
    "    finally:\n",
    "        cur.close()"
   ]
  },
  {
   "cell_type": "code",
   "execution_count": null,
   "metadata": {},
   "outputs": [],
   "source": [
    "prijava_dobra(conn, 'janez', 'geslo123')"
   ]
  },
  {
   "cell_type": "code",
   "execution_count": null,
   "metadata": {},
   "outputs": [],
   "source": [
    "prijava_dobra(conn, 'janez', 'napacno_geslo')"
   ]
  },
  {
   "cell_type": "code",
   "execution_count": null,
   "metadata": {},
   "outputs": [],
   "source": [
    "prijava_dobra(conn, 'micka', 'geslo123')"
   ]
  },
  {
   "cell_type": "code",
   "execution_count": null,
   "metadata": {},
   "outputs": [],
   "source": [
    "prijava_dobra(conn, \"admin' OR 0 AND --\", \"\")"
   ]
  },
  {
   "cell_type": "code",
   "execution_count": null,
   "metadata": {},
   "outputs": [],
   "source": [
    "prijava_dobra(conn, \"franci\", \"ges'lce\")"
   ]
  },
  {
   "cell_type": "code",
   "execution_count": null,
   "metadata": {},
   "outputs": [],
   "source": [
    "conn.close()"
   ]
  }
 ],
 "metadata": {
  "kernelspec": {
   "display_name": "Python 3",
   "language": "python",
   "name": "python3"
  },
  "language_info": {
   "codemirror_mode": {
    "name": "ipython",
    "version": 3
   },
   "file_extension": ".py",
   "mimetype": "text/x-python",
   "name": "python",
   "nbconvert_exporter": "python",
   "pygments_lexer": "ipython3",
   "version": "3.8.10"
  }
 },
 "nbformat": 4,
 "nbformat_minor": 2
}
