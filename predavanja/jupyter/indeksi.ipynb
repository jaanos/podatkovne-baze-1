{
 "cells": [
  {
   "cell_type": "markdown",
   "metadata": {},
   "source": [
    "# Uporaba indeksov v bazah\n",
    "\n",
    "Če želimo delati hitre poizvedbe po določenih stolpcih, lahko na njih uvedemo **indekse**."
   ]
  },
  {
   "cell_type": "code",
   "execution_count": 1,
   "metadata": {},
   "outputs": [],
   "source": [
    "import sqlite3\n",
    "from urllib.request import urlretrieve"
   ]
  },
  {
   "cell_type": "markdown",
   "metadata": {},
   "source": [
    "Poglejmo si dve bazi, ki vsebujeta podatke o nekaj več kot 200000 grafih iz projekta [*discrete*ZOO](https://discretezoo.xyz/). Prva vsebuje indekse in je velika 426 MB, druga pa vsebuje iste podatke, a so bili indeksi odstranjeni (z izjemo ključev in `UNIQUE`), tako da je njena velikost 385 MB."
   ]
  },
  {
   "cell_type": "code",
   "execution_count": null,
   "metadata": {},
   "outputs": [],
   "source": [
    "_ = urlretrieve(\"http://baza.fmf.uni-lj.si/discretezoo.db\", \"discretezoo.db\")\n",
    "_ = urlretrieve(\"http://baza.fmf.uni-lj.si/discretezoo-noindex.db\", \"discretezoo-noindex.db\")"
   ]
  },
  {
   "cell_type": "markdown",
   "metadata": {},
   "source": [
    "Vzpostavimo povezavi na obe bazi in napišimo funkcijo, ki bo primerjala trajanje izvajanja iste poizvedbe na vsaki od baz."
   ]
  },
  {
   "cell_type": "code",
   "execution_count": 2,
   "metadata": {},
   "outputs": [],
   "source": [
    "c1 = sqlite3.connect(\"discretezoo.db\")\n",
    "c2 = sqlite3.connect(\"discretezoo-noindex.db\")"
   ]
  },
  {
   "cell_type": "code",
   "execution_count": 3,
   "metadata": {},
   "outputs": [],
   "source": [
    "def primerjaj(*largs):\n",
    "    %timeit c1.execute(*largs).fetchall()\n",
    "    %timeit c2.execute(*largs).fetchall()"
   ]
  },
  {
   "cell_type": "markdown",
   "metadata": {},
   "source": [
    "Poglejmo si, kateri indeksi obstajajo v vsaki bazi."
   ]
  },
  {
   "cell_type": "code",
   "execution_count": 4,
   "metadata": {},
   "outputs": [
    {
     "data": {
      "text/plain": [
       "[(None,),\n",
       " ('CREATE INDEX \"idx_object_alias_alias\" ON \"object_alias\"(\"alias\")',),\n",
       " ('CREATE INDEX \"idx_object_unique_id_unique_id\" ON \"object_unique_id\"(\"unique_id\")',),\n",
       " ('CREATE INDEX \"idx_graph_order\" ON \"graph\"(\"order\")',),\n",
       " ('CREATE INDEX \"idx_graph_average_degree\" ON \"graph\"(\"average_degree\")',),\n",
       " ('CREATE INDEX \"idx_graph_vt_vt_index\" ON \"graph_vt\"(\"vt_index\")',),\n",
       " ('CREATE INDEX \"idx_graph_cvt_cvt_index\" ON \"graph_cvt\"(\"cvt_index\")',),\n",
       " ('CREATE INDEX \"idx_graph_cvt_symcubic_index\" ON \"graph_cvt\"(\"symcubic_index\")',),\n",
       " ('CREATE UNIQUE INDEX \"idx_object_alias_object_id_alias_unique\" ON \"object_alias\"(\"object_id\", \"alias\")',),\n",
       " ('CREATE UNIQUE INDEX \"idx_object_unique_id_object_id_algorithm_unique\" ON \"object_unique_id\"(\"object_id\", \"algorithm\")',),\n",
       " ('CREATE UNIQUE INDEX \"idx_graph_spx_spx_r_spx_s_unique\" ON \"graph_spx\"(\"spx_r\", \"spx_s\")',),\n",
       " ('CREATE UNIQUE INDEX \"idx_change_zooid_table_column_commit_unique\" ON \"change\"(\"zooid\", \"table\", \"column\", \"commit\")',)]"
      ]
     },
     "execution_count": 4,
     "metadata": {},
     "output_type": "execute_result"
    }
   ],
   "source": [
    "c1.execute(\"SELECT sql FROM sqlite_master WHERE type = 'index'\").fetchall()"
   ]
  },
  {
   "cell_type": "code",
   "execution_count": 5,
   "metadata": {},
   "outputs": [
    {
     "data": {
      "text/plain": [
       "[(None,),\n",
       " ('CREATE UNIQUE INDEX \"idx_object_alias_object_id_alias_unique\" ON \"object_alias\"(\"object_id\", \"alias\")',),\n",
       " ('CREATE UNIQUE INDEX \"idx_object_unique_id_object_id_algorithm_unique\" ON \"object_unique_id\"(\"object_id\", \"algorithm\")',),\n",
       " ('CREATE UNIQUE INDEX \"idx_graph_spx_spx_r_spx_s_unique\" ON \"graph_spx\"(\"spx_r\", \"spx_s\")',),\n",
       " ('CREATE UNIQUE INDEX \"idx_change_zooid_table_column_commit_unique\" ON \"change\"(\"zooid\", \"table\", \"column\", \"commit\")',)]"
      ]
     },
     "execution_count": 5,
     "metadata": {},
     "output_type": "execute_result"
    }
   ],
   "source": [
    "c2.execute(\"SELECT sql FROM sqlite_master WHERE type = 'index'\").fetchall()"
   ]
  },
  {
   "cell_type": "markdown",
   "metadata": {},
   "source": [
    "Poskusimo sedaj prvo poizvedbo - štetje vrstic v tabeli `graph` z določeno vrednostjo v stolpcu `order`."
   ]
  },
  {
   "cell_type": "code",
   "execution_count": 6,
   "metadata": {},
   "outputs": [
    {
     "name": "stdout",
     "output_type": "stream",
     "text": [
      "50.7 µs ± 6.2 µs per loop (mean ± std. dev. of 7 runs, 10000 loops each)\n",
      "156 ms ± 4.48 ms per loop (mean ± std. dev. of 7 runs, 1 loop each)\n"
     ]
    }
   ],
   "source": [
    "sql = \"\"\"\n",
    "    SELECT COUNT(*) FROM graph WHERE `order` = ?\n",
    "\"\"\"\n",
    "primerjaj(sql, [512])"
   ]
  },
  {
   "cell_type": "markdown",
   "metadata": {},
   "source": [
    "Opazimo, da je poizvedba na bazi z indeksi za nekaj velikostnih razredov hitrejša kot na bazi brez indeksov. SQLite si sicer poizvedbo zapomni in ustvari začasen indeks, zaradi česar so naslednje poizvedbe hitrejše. Poskusimo sedaj z branjem celotnih vrstic."
   ]
  },
  {
   "cell_type": "code",
   "execution_count": 7,
   "metadata": {},
   "outputs": [
    {
     "name": "stdout",
     "output_type": "stream",
     "text": [
      "11.4 ms ± 597 µs per loop (mean ± std. dev. of 7 runs, 100 loops each)\n",
      "174 ms ± 7.25 ms per loop (mean ± std. dev. of 7 runs, 10 loops each)\n"
     ]
    }
   ],
   "source": [
    "sql = \"\"\"\n",
    "    SELECT * FROM graph WHERE `order` = ?\n",
    "\"\"\"\n",
    "primerjaj(sql, [512])"
   ]
  },
  {
   "cell_type": "markdown",
   "metadata": {},
   "source": [
    "Razlika je še vedno očitna. Poskusimo še z združevanjem."
   ]
  },
  {
   "cell_type": "code",
   "execution_count": 8,
   "metadata": {},
   "outputs": [
    {
     "name": "stdout",
     "output_type": "stream",
     "text": [
      "482 ms ± 14.7 ms per loop (mean ± std. dev. of 7 runs, 1 loop each)\n",
      "491 ms ± 12.8 ms per loop (mean ± std. dev. of 7 runs, 1 loop each)\n"
     ]
    }
   ],
   "source": [
    "sql = \"\"\"\n",
    "    SELECT `order`, AVG(diameter) FROM graph GROUP BY `order`\n",
    "\"\"\"\n",
    "primerjaj(sql)"
   ]
  }
 ],
 "metadata": {
  "kernelspec": {
   "display_name": "Python 3",
   "language": "python",
   "name": "python3"
  },
  "language_info": {
   "codemirror_mode": {
    "name": "ipython",
    "version": 3
   },
   "file_extension": ".py",
   "mimetype": "text/x-python",
   "name": "python",
   "nbconvert_exporter": "python",
   "pygments_lexer": "ipython3",
   "version": "3.8.10"
  }
 },
 "nbformat": 4,
 "nbformat_minor": 2
}
