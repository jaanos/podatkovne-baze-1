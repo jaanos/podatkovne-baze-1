{
 "cells": [
  {
   "cell_type": "markdown",
   "metadata": {},
   "source": [
    "# Primer - BBC\n",
    "\n",
    "* Uporabimo bazo [`bbc.db`](bbc.db).\n",
    "* Izpišimo imena vseh evropskih držav."
   ]
  },
  {
   "cell_type": "markdown",
   "metadata": {},
   "source": [
    "Uvozimo podatkovni vmesnik in se povežimo na bazo."
   ]
  },
  {
   "cell_type": "code",
   "execution_count": 1,
   "metadata": {},
   "outputs": [],
   "source": [
    "import sqlite3 as dbapi\n",
    "povezava = dbapi.connect(\"bbc.db\")\n",
    "kazalec = povezava.cursor()"
   ]
  },
  {
   "cell_type": "markdown",
   "metadata": {},
   "source": [
    "Zapišimo naš ukaz in ga izvedimo."
   ]
  },
  {
   "cell_type": "code",
   "execution_count": 21,
   "metadata": {},
   "outputs": [
    {
     "ename": "ProgrammingError",
     "evalue": "Cannot operate on a closed cursor.",
     "output_type": "error",
     "traceback": [
      "\u001b[0;31m---------------------------------------------------------------------------\u001b[0m",
      "\u001b[0;31mProgrammingError\u001b[0m                          Traceback (most recent call last)",
      "\u001b[0;32m<ipython-input-21-89237ad4294a>\u001b[0m in \u001b[0;36m<module>\u001b[0;34m\u001b[0m\n\u001b[1;32m      1\u001b[0m \u001b[0msql\u001b[0m \u001b[0;34m=\u001b[0m \u001b[0;34m\"SELECT * FROM bbc WHERE region = 'Europe'\"\u001b[0m\u001b[0;34m\u001b[0m\u001b[0;34m\u001b[0m\u001b[0m\n\u001b[0;32m----> 2\u001b[0;31m \u001b[0mkazalec\u001b[0m\u001b[0;34m.\u001b[0m\u001b[0mexecute\u001b[0m\u001b[0;34m(\u001b[0m\u001b[0msql\u001b[0m\u001b[0;34m)\u001b[0m        \u001b[0;31m# izvedemo ukaz\u001b[0m\u001b[0;34m\u001b[0m\u001b[0;34m\u001b[0m\u001b[0m\n\u001b[0m",
      "\u001b[0;31mProgrammingError\u001b[0m: Cannot operate on a closed cursor."
     ]
    }
   ],
   "source": [
    "sql = \"SELECT * FROM bbc WHERE region = 'Europe'\"\n",
    "kazalec.execute(sql)        # izvedemo ukaz"
   ]
  },
  {
   "cell_type": "markdown",
   "metadata": {},
   "source": [
    "Preberimo celoten rezultat v seznam in izpišimo imena držav."
   ]
  },
  {
   "cell_type": "code",
   "execution_count": 3,
   "metadata": {},
   "outputs": [
    {
     "name": "stdout",
     "output_type": "stream",
     "text": [
      "Albania\n",
      "Andorra\n",
      "Armenia\n",
      "Austria\n",
      "Azerbaijan\n",
      "Belarus\n",
      "Belgium\n",
      "Bosnia-Hercegovina\n",
      "Bulgaria\n",
      "Croatia\n",
      "Cyprus\n",
      "Czech Republic\n",
      "Denmark\n",
      "Estonia\n",
      "Finland\n",
      "Former Yugoslav Republic of Macedonia\n",
      "France\n",
      "Georgia\n",
      "Germany\n",
      "Greece\n",
      "Hungary\n",
      "Iceland\n",
      "Ireland\n",
      "Italy\n",
      "Latvia\n",
      "Liechtenstein\n",
      "Lithuania\n",
      "Luxembourg\n",
      "Malta\n",
      "Moldova\n",
      "Monaco\n",
      "Norway\n",
      "Poland\n",
      "Portugal\n",
      "Romania\n",
      "Russia\n",
      "San Marino\n",
      "Serbia and Montenegro\n",
      "Slovakia\n",
      "Slovenia\n",
      "Spain\n",
      "Sweden\n",
      "Switzerland\n",
      "The Netherlands\n",
      "Turkey\n",
      "Ukraine\n",
      "United Kingdom\n",
      "Vatican\n"
     ]
    }
   ],
   "source": [
    "zapisi = kazalec.fetchall() # preberemo tabelo z rezultati\n",
    "for vrstica in zapisi:\n",
    "    print(vrstica[0])       # ime je prvi element nabora"
   ]
  },
  {
   "cell_type": "code",
   "execution_count": 4,
   "metadata": {},
   "outputs": [
    {
     "data": {
      "text/plain": [
       "[('Albania', 'Europe', 28728, 3200000, 6656000000),\n",
       " ('Andorra', 'Europe', 468, 64000, None),\n",
       " ('Armenia', 'Europe', 29743, 3000000, 3360000000),\n",
       " ('Austria', 'Europe', 83871, 8100000, 261630000000),\n",
       " ('Azerbaijan', 'Europe', 86600, 8500000, None),\n",
       " ('Belarus', 'Europe', 207595, 9800000, 20776000000),\n",
       " ('Belgium', 'Europe', 30528, 10300000, 319609000000),\n",
       " ('Bosnia-Hercegovina', 'Europe', 51129, 4200000, 8568000000),\n",
       " ('Bulgaria', 'Europe', 110994, 7800000, 21372000000),\n",
       " ('Croatia', 'Europe', 56594, 4400000, 28996000000),\n",
       " ('Cyprus', 'Europe', 9250, 807000, 14187060000),\n",
       " ('Czech Republic', 'Europe', 78866, 10200000, 93330000000),\n",
       " ('Denmark', 'Europe', 43098, 5400000, 219510000000),\n",
       " ('Estonia', 'Europe', 45227, 1300000, 9113000000),\n",
       " ('Finland', 'Europe', 338145, 5200000, 170508000000),\n",
       " ('Former Yugoslav Republic of Macedonia',\n",
       "  'Europe',\n",
       "  25713,\n",
       "  2000000,\n",
       "  4700000000),\n",
       " ('France', 'Europe', 543965, 60700000, 1826463000000),\n",
       " ('Georgia', 'Europe', 69700, 5000000, 5200000000),\n",
       " ('Germany', 'Europe', 357027, 82500000, 2484900000000),\n",
       " ('Greece', 'Europe', 131957, 11000000, 182710000000),\n",
       " ('Hungary', 'Europe', 93030, 9800000, 81046000000),\n",
       " ('Iceland', 'Europe', 103000, 294000, 11354280000),\n",
       " ('Ireland', 'Europe', 70182, 4000000, 137120000000),\n",
       " ('Italy', 'Europe', 301338, 57200000, 1494064000000),\n",
       " ('Latvia', 'Europe', 64589, 2300000, None),\n",
       " ('Liechtenstein', 'Europe', 160, 34000, None),\n",
       " ('Lithuania', 'Europe', 65300, 3400000, 19516000000),\n",
       " ('Luxembourg', 'Europe', 2586, 465000, 26146950000),\n",
       " ('Malta', 'Europe', 316, 397000, 4863250000),\n",
       " ('Moldova', 'Europe', 33800, 4300000, 3053000000),\n",
       " ('Monaco', 'Europe', 2, 32000, None),\n",
       " ('Norway', 'Europe', 323759, 4600000, 239338000000),\n",
       " ('Poland', 'Europe', 312685, 38500000, 234465000000),\n",
       " ('Portugal', 'Europe', 92345, 10500000, 150675000000),\n",
       " ('Romania', 'Europe', 238391, 22200000, 64824000000),\n",
       " ('Russia', 'Europe', 17000000, 141500000, 482515000000),\n",
       " ('San Marino', 'Europe', 61, 27000, None),\n",
       " ('Serbia and Montenegro', 'Europe', 102173, 10500000, 27510000000),\n",
       " ('Slovakia', 'Europe', 49033, 5400000, 34992000000),\n",
       " ('Slovenia', 'Europe', 20273, 2000000, 29620000000),\n",
       " ('Spain', 'Europe', 505988, 44100000, 935361000000),\n",
       " ('Sweden', 'Europe', 449964, 8900000, 318353000000),\n",
       " ('Switzerland', 'Europe', 41284, 7100000, 342433000000),\n",
       " ('The Netherlands', 'Europe', 41864, 16300000, 516710000000),\n",
       " ('Turkey', 'Europe', 779452, 73300000, 274875000000),\n",
       " ('Ukraine', 'Europe', 603700, 47800000, 60228000000),\n",
       " ('United Kingdom', 'Europe', 242514, 59600000, 2022824000000),\n",
       " ('Vatican', 'Europe', 0, None, None)]"
      ]
     },
     "execution_count": 4,
     "metadata": {},
     "output_type": "execute_result"
    }
   ],
   "source": [
    "zapisi"
   ]
  },
  {
   "cell_type": "markdown",
   "metadata": {},
   "source": [
    "Namesto tega bi lahko z zanko `for` brali zapise enega po enega."
   ]
  },
  {
   "cell_type": "code",
   "execution_count": 7,
   "metadata": {},
   "outputs": [
    {
     "name": "stdout",
     "output_type": "stream",
     "text": [
      "Albania 28728\n",
      "Andorra 468\n",
      "Armenia 29743\n",
      "Austria 83871\n",
      "Azerbaijan 86600\n",
      "Belarus 207595\n",
      "Belgium 30528\n",
      "Bosnia-Hercegovina 51129\n",
      "Bulgaria 110994\n",
      "Croatia 56594\n",
      "Cyprus 9250\n",
      "Czech Republic 78866\n",
      "Denmark 43098\n",
      "Estonia 45227\n",
      "Finland 338145\n",
      "Former Yugoslav Republic of Macedonia 25713\n",
      "France 543965\n",
      "Georgia 69700\n",
      "Germany 357027\n",
      "Greece 131957\n",
      "Hungary 93030\n",
      "Iceland 103000\n",
      "Ireland 70182\n",
      "Italy 301338\n",
      "Latvia 64589\n",
      "Liechtenstein 160\n",
      "Lithuania 65300\n",
      "Luxembourg 2586\n",
      "Malta 316\n",
      "Moldova 33800\n",
      "Monaco 2\n",
      "Norway 323759\n",
      "Poland 312685\n",
      "Portugal 92345\n",
      "Romania 238391\n",
      "Russia 17000000\n",
      "San Marino 61\n",
      "Serbia and Montenegro 102173\n",
      "Slovakia 49033\n",
      "Slovenia 20273\n",
      "Spain 505988\n",
      "Sweden 449964\n",
      "Switzerland 41284\n",
      "The Netherlands 41864\n",
      "Turkey 779452\n",
      "Ukraine 603700\n",
      "United Kingdom 242514\n",
      "Vatican 0\n"
     ]
    }
   ],
   "source": [
    "for ime, regija, povrsina, prebivalstvo, bdp in kazalec:\n",
    "    print(ime, povrsina)"
   ]
  },
  {
   "cell_type": "markdown",
   "metadata": {},
   "source": [
    "Lahko pa tudi ročno beremo vrstico po vrstico."
   ]
  },
  {
   "cell_type": "code",
   "execution_count": 20,
   "metadata": {},
   "outputs": [
    {
     "ename": "ProgrammingError",
     "evalue": "Cannot operate on a closed cursor.",
     "output_type": "error",
     "traceback": [
      "\u001b[0;31m---------------------------------------------------------------------------\u001b[0m",
      "\u001b[0;31mProgrammingError\u001b[0m                          Traceback (most recent call last)",
      "\u001b[0;32m<ipython-input-20-4eb950dff5c5>\u001b[0m in \u001b[0;36m<module>\u001b[0;34m\u001b[0m\n\u001b[0;32m----> 1\u001b[0;31m \u001b[0mkazalec\u001b[0m\u001b[0;34m.\u001b[0m\u001b[0mfetchone\u001b[0m\u001b[0;34m(\u001b[0m\u001b[0;34m)\u001b[0m\u001b[0;34m\u001b[0m\u001b[0;34m\u001b[0m\u001b[0m\n\u001b[0m",
      "\u001b[0;31mProgrammingError\u001b[0m: Cannot operate on a closed cursor."
     ]
    }
   ],
   "source": [
    "kazalec.fetchone()"
   ]
  },
  {
   "cell_type": "code",
   "execution_count": 17,
   "metadata": {},
   "outputs": [
    {
     "data": {
      "text/plain": [
       "('Bosnia-Hercegovina', 'Europe', 51129, 4200000, 8568000000)"
      ]
     },
     "execution_count": 17,
     "metadata": {},
     "output_type": "execute_result"
    }
   ],
   "source": [
    "next(kazalec)"
   ]
  },
  {
   "cell_type": "markdown",
   "metadata": {},
   "source": [
    "Pristope lahko tudi kombiniramo."
   ]
  },
  {
   "cell_type": "code",
   "execution_count": 18,
   "metadata": {},
   "outputs": [
    {
     "name": "stdout",
     "output_type": "stream",
     "text": [
      "Bulgaria 21372000000\n",
      "Croatia 28996000000\n",
      "Cyprus 14187060000\n",
      "Czech Republic 93330000000\n",
      "Denmark 219510000000\n",
      "Estonia 9113000000\n",
      "Finland 170508000000\n",
      "Former Yugoslav Republic of Macedonia 4700000000\n",
      "France 1826463000000\n",
      "Georgia 5200000000\n",
      "Germany 2484900000000\n",
      "Greece 182710000000\n",
      "Hungary 81046000000\n",
      "Iceland 11354280000\n",
      "Ireland 137120000000\n",
      "Italy 1494064000000\n",
      "Latvia None\n",
      "Liechtenstein None\n",
      "Lithuania 19516000000\n",
      "Luxembourg 26146950000\n",
      "Malta 4863250000\n",
      "Moldova 3053000000\n",
      "Monaco None\n",
      "Norway 239338000000\n",
      "Poland 234465000000\n",
      "Portugal 150675000000\n",
      "Romania 64824000000\n",
      "Russia 482515000000\n",
      "San Marino None\n",
      "Serbia and Montenegro 27510000000\n",
      "Slovakia 34992000000\n",
      "Slovenia 29620000000\n",
      "[('Spain', 'Europe', 505988, 44100000, 935361000000), ('Sweden', 'Europe', 449964, 8900000, 318353000000), ('Switzerland', 'Europe', 41284, 7100000, 342433000000), ('The Netherlands', 'Europe', 41864, 16300000, 516710000000), ('Turkey', 'Europe', 779452, 73300000, 274875000000)]\n",
      "[('Ukraine', 'Europe', 603700, 47800000, 60228000000), ('United Kingdom', 'Europe', 242514, 59600000, 2022824000000), ('Vatican', 'Europe', 0, None, None)]\n"
     ]
    }
   ],
   "source": [
    "for ime, *_, bdp in kazalec:\n",
    "    print(ime, bdp)\n",
    "    if ime == 'Slovenia':\n",
    "        break\n",
    "print(kazalec.fetchmany(5))\n",
    "print(kazalec.fetchall())"
   ]
  },
  {
   "cell_type": "markdown",
   "metadata": {},
   "source": [
    "Nazadnje zaprimo kazalec in povezavo na bazo."
   ]
  },
  {
   "cell_type": "code",
   "execution_count": 19,
   "metadata": {},
   "outputs": [],
   "source": [
    "kazalec.close()\n",
    "povezava.close()"
   ]
  },
  {
   "cell_type": "markdown",
   "metadata": {},
   "source": [
    "# Še en primer"
   ]
  },
  {
   "cell_type": "code",
   "execution_count": 8,
   "metadata": {},
   "outputs": [
    {
     "name": "stdout",
     "output_type": "stream",
     "text": [
      "(1, 100, 'KU-KU')\n"
     ]
    }
   ],
   "source": [
    "import sqlite3 as dbapi\n",
    "# Povežemo se na novo bazo - s tem jo ustvarimo\n",
    "conn = dbapi.connect(\"testdb.sqlite\")\n",
    "cur = conn.cursor()                        # Odpremo kazalec\n",
    "cur.execute(\"DROP TABLE IF EXISTS test;\")  # Zbrišemo tabelo, če že obstaja\n",
    "# Izvedemo ukaz - ustvarimo tabelo\n",
    "cur.execute(\"\"\"\n",
    "      CREATE TABLE test (\n",
    "        id   integer PRIMARY KEY AUTOINCREMENT,\n",
    "        num  integer,\n",
    "        data text\n",
    "      );\n",
    "    \"\"\")\n",
    "# Vstavimo podatke v tabelo\n",
    "cur.execute(\"INSERT INTO test (num, data) VALUES (100, 'KU-KU');\")\n",
    "cur.execute(\"SELECT * FROM test;\")         # Preberemo zapisane podatke\n",
    "rezultat  = cur.fetchone()                 # Hočemo le eno vrstico\n",
    "print(rezultat)                            # Izpiše se (1, 100, \"KU-KU\")\n",
    "conn.commit()                              # Poskrbimo, da so spremembe trajne\n",
    "# Zapremo povezave z bazo\n",
    "cur.close()\n",
    "conn.close()"
   ]
  },
  {
   "cell_type": "markdown",
   "metadata": {},
   "source": [
    "Kaj pa, če gre kaj narobe? V vsakem primeru želimo zapreti povezave - to lahko dosežemo z blokom `finally`."
   ]
  },
  {
   "cell_type": "code",
   "execution_count": 3,
   "metadata": {},
   "outputs": [
    {
     "name": "stdout",
     "output_type": "stream",
     "text": [
      "(1, 100, 'KU-KU')\n",
      "Zapiramo kazalec\n",
      "Prišlo je do napake: UNIQUE constraint failed: test.id!\n",
      "None\n",
      "Zapiramo povezavo z bazo\n"
     ]
    }
   ],
   "source": [
    "import sqlite3 as dbapi\n",
    "# Povežemo se na novo bazo - s tem jo ustvarimo\n",
    "conn = dbapi.connect(\"testdb.sqlite\")\n",
    "try:\n",
    "    cur = conn.cursor()                            # Odpremo kazalec\n",
    "    try:\n",
    "        cur.execute(\"DROP TABLE IF EXISTS test;\")  # Zbrišemo tabelo, če že obstaja\n",
    "        # Izvedemo ukaz - ustvarimo tabelo\n",
    "        cur.execute(\"\"\"\n",
    "              CREATE TABLE test (\n",
    "                id   integer PRIMARY KEY AUTOINCREMENT,\n",
    "                num  integer,\n",
    "                data text\n",
    "              );\n",
    "            \"\"\")\n",
    "        # Vstavimo podatke v tabelo\n",
    "        cur.execute(\"INSERT INTO test (num, data) VALUES (100, 'KU-KU');\")\n",
    "        cur.execute(\"SELECT * FROM test;\")         # Preberemo zapisane podatke\n",
    "        rezultat  = cur.fetchone()                 # Hočemo le eno vrstico\n",
    "        print(rezultat)                            # Izpiše se (1, 100, \"KU-KU\")\n",
    "        # Vstavimo še eno vrstico\n",
    "        cur.execute(\"INSERT INTO test (id, num, data) VALUES (1, 200, 'kaj pa zdaj?');\")\n",
    "        # Tukaj pride do napake, saj bi se ponovila vrednost v stolpcu id\n",
    "        conn.commit()                              # Poskrbimo, da so spremembe trajne\n",
    "    finally:\n",
    "        # Zapremo povezavo s kazalcem\n",
    "        print(\"Zapiramo kazalec\")\n",
    "        cur.close()\n",
    "except dbapi.IntegrityError as ex:\n",
    "    conn.rollback()                                # Prekličemo spremembe\n",
    "    print(f\"Prišlo je do napake: {ex}!\")\n",
    "    cur = conn.cursor()                            # Odpremo nov kazalec, ker smo starega zaprli\n",
    "    cur.execute(\"SELECT * FROM test;\")             # Preberemo zapisane podatke\n",
    "    rezultat  = cur.fetchone()                     # Hočemo le eno vrstico\n",
    "    print(rezultat)                                # Ni take vrstice, dobimo None\n",
    "    cur.close()\n",
    "finally:\n",
    "    # Zapremo povezavo z bazo\n",
    "    print(\"Zapiramo povezavo z bazo\")\n",
    "    conn.close()"
   ]
  },
  {
   "cell_type": "markdown",
   "metadata": {},
   "source": [
    "# Uporaba `with`\n",
    "\n",
    "Z `ẁith` poskrbimo za potrditev transakcije ob uspešnem izvajanju oziroma za preklic ob napaki."
   ]
  },
  {
   "cell_type": "code",
   "execution_count": 9,
   "metadata": {},
   "outputs": [
    {
     "name": "stdout",
     "output_type": "stream",
     "text": [
      "Napaka: UNIQUE constraint failed: test.id\n"
     ]
    }
   ],
   "source": [
    "import sqlite3 as dbapi\n",
    "conn = dbapi.connect(\"testdb.sqlite\")\n",
    "cur = conn.cursor()\n",
    "try:\n",
    "    with conn:\n",
    "        cur.execute(\"INSERT INTO test (num, data) VALUES (100, 'prva vrstica');\")\n",
    "        cur.execute(\"\"\"\n",
    "            INSERT INTO test (id, num, data)\n",
    "            VALUES (2, 200, 'kaj pa zdaj?');\n",
    "            \"\"\")\n",
    "        cur.execute(\"INSERT INTO test (num, data) VALUES (300, 'še nekaj');\")\n",
    "except dbapi.IntegrityError as ex:\n",
    "    print(f\"Napaka: {ex}\")"
   ]
  },
  {
   "cell_type": "markdown",
   "metadata": {},
   "source": [
    "Poglejmo, kaj se nahaja v tabeli."
   ]
  },
  {
   "cell_type": "code",
   "execution_count": 10,
   "metadata": {},
   "outputs": [
    {
     "data": {
      "text/plain": [
       "[(1, 100, 'KU-KU')]"
      ]
     },
     "execution_count": 10,
     "metadata": {},
     "output_type": "execute_result"
    }
   ],
   "source": [
    "cur.execute(\"SELECT * FROM test;\")\n",
    "cur.fetchall()"
   ]
  },
  {
   "cell_type": "markdown",
   "metadata": {},
   "source": [
    "Kazalec in povezava sta ostala odprta, tako da ju na koncu zapremo."
   ]
  },
  {
   "cell_type": "code",
   "execution_count": 11,
   "metadata": {},
   "outputs": [],
   "source": [
    "cur.close()\n",
    "conn.close()"
   ]
  },
  {
   "cell_type": "markdown",
   "metadata": {},
   "source": [
    "# Parametriziranje ukazov SQL\n",
    "\n",
    "Parametre lahko vstavljamo v ukaze SQL tako, da na njihova mesta zapišemo `?` ali ime parametra za `:`, njihove vrednosti pa podamo z drugim parametrom metode `execute`."
   ]
  },
  {
   "cell_type": "code",
   "execution_count": 12,
   "metadata": {},
   "outputs": [],
   "source": [
    "import sqlite3 as dbapi\n",
    "conn = dbapi.connect(\"bbc.db\")"
   ]
  },
  {
   "cell_type": "code",
   "execution_count": 13,
   "metadata": {},
   "outputs": [],
   "source": [
    "def drzava(conn, ime):\n",
    "    cur = conn.cursor()\n",
    "    try:\n",
    "        cur.execute(\"SELECT * FROM bbc WHERE name = ?;\", (ime, ))\n",
    "        return cur.fetchone()\n",
    "    finally:\n",
    "        cur.close()"
   ]
  },
  {
   "cell_type": "code",
   "execution_count": 14,
   "metadata": {},
   "outputs": [
    {
     "data": {
      "text/plain": [
       "('Slovenia', 'Europe', 20273, 2000000, 29620000000)"
      ]
     },
     "execution_count": 14,
     "metadata": {},
     "output_type": "execute_result"
    }
   ],
   "source": [
    "drzava(conn, 'Slovenia')"
   ]
  },
  {
   "cell_type": "code",
   "execution_count": 15,
   "metadata": {},
   "outputs": [],
   "source": [
    "def prebivalstvo(conn, min, max):\n",
    "    cur = conn.cursor()\n",
    "    try:\n",
    "        cur.execute(\"\"\"\n",
    "              SELECT * FROM bbc\n",
    "               WHERE population BETWEEN ? AND ?;\n",
    "            \"\"\", [min, max])\n",
    "        return cur.fetchall()\n",
    "    finally:\n",
    "        cur.close()"
   ]
  },
  {
   "cell_type": "code",
   "execution_count": 16,
   "metadata": {},
   "outputs": [
    {
     "data": {
      "text/plain": [
       "[('Albania', 'Europe', 28728, 3200000, 6656000000),\n",
       " ('Armenia', 'Europe', 29743, 3000000, 3360000000),\n",
       " ('Austria', 'Europe', 83871, 8100000, 261630000000),\n",
       " ('Azerbaijan', 'Europe', 86600, 8500000, None),\n",
       " ('Belarus', 'Europe', 207595, 9800000, 20776000000),\n",
       " ('Benin', 'Africa', 112622, 7100000, 3763000000),\n",
       " ('Bhutan', 'South Asia', 38364, 2400000, 1824000000),\n",
       " ('Bolivia', 'South America', 1100000, 9100000, None),\n",
       " ('Bosnia-Hercegovina', 'Europe', 51129, 4200000, 8568000000),\n",
       " ('Botswana', 'Africa', 581730, 1800000, 7812000000),\n",
       " ('Bulgaria', 'Europe', 110994, 7800000, 21372000000),\n",
       " ('Burundi', 'Africa', 27816, 7300000, None),\n",
       " ('Central African Republic', 'Africa', 622984, 3900000, None),\n",
       " ('Chad', 'Africa', 1280000, 9100000, 2366000000),\n",
       " ('Costa Rica', 'Americas', 51100, 4300000, None),\n",
       " ('Croatia', 'Europe', 56594, 4400000, 28996000000),\n",
       " ('Denmark', 'Europe', 43098, 5400000, 219510000000),\n",
       " ('Dominican Republic', 'Americas', 48072, 9000000, None),\n",
       " ('El Salvador', 'Americas', 21041, 6700000, 15745000000),\n",
       " ('Eritrea', 'Africa', 117400, 4561599, None),\n",
       " ('Estonia', 'Europe', 45227, 1300000, 9113000000),\n",
       " ('Finland', 'Europe', 338145, 5200000, 170508000000),\n",
       " ('Former Yugoslav Republic of Macedonia',\n",
       "  'Europe',\n",
       "  25713,\n",
       "  2000000,\n",
       "  4700000000),\n",
       " ('Gabon', 'Africa', 267667, 1400000, None),\n",
       " ('Georgia', 'Europe', 69700, 5000000, 5200000000),\n",
       " ('Guinea', 'Africa', 245857, 8800000, 4048000000),\n",
       " ('Guinea-Bissau', 'Africa', 36125, 1600000, 256000000),\n",
       " ('Haiti', 'Americas', 27750, 8500000, None),\n",
       " ('Honduras', 'Americas', 112492, 7200000, 7416000000),\n",
       " ('Hungary', 'Europe', 93030, 9800000, 81046000000),\n",
       " ('Ireland', 'Europe', 70182, 4000000, 137120000000),\n",
       " ('Israel and Palestinian territories',\n",
       "  'Middle East',\n",
       "  20770,\n",
       "  3800000,\n",
       "  4256000000),\n",
       " ('Jamaica', 'Americas', 10991, 2700000, 7830000000),\n",
       " ('Jordan', 'Middle East', 89342, 5700000, 12198000000),\n",
       " ('Kuwait', 'Middle East', 17818, 2700000, 48519000000),\n",
       " ('Kyrgyzstan', 'Asia-Pacific', 199900, 5300000, None),\n",
       " ('Laos', 'Asia-Pacific', 236800, 5900000, 2301000000),\n",
       " ('Latvia', 'Europe', 64589, 2300000, None),\n",
       " ('Lebanon', 'Middle East', 10452, 3800000, 18924000000),\n",
       " ('Lesotho', 'Africa', 30355, 1800000, 1332000000),\n",
       " ('Liberia', 'Africa', 99067, 3600000, 396000000),\n",
       " ('Libya', 'Africa', 1770000, 5800000, 25810000000),\n",
       " ('Lithuania', 'Europe', 65300, 3400000, 19516000000),\n",
       " ('Mauritania', 'Middle East', 1040000, 3100000, 1302000000),\n",
       " ('Mauritius', 'Africa', 2040, 1200000, 5568000000),\n",
       " ('Moldova', 'Europe', 33800, 4300000, 3053000000),\n",
       " ('Mongolia', 'Asia-Pacific', 1560000, 2700000, None),\n",
       " ('Namibia', 'Africa', 824292, 2000000, 4740000000),\n",
       " ('New Zealand', 'Asia-Pacific', 270534, 4000000, 81240000000),\n",
       " ('Nicaragua', 'Americas', 120254, 5700000, 4503000000),\n",
       " ('Norway', 'Europe', 323759, 4600000, 239338000000),\n",
       " ('Oman', 'Middle East', 309500, 3000000, 23670000000),\n",
       " ('Panama', 'Americas', 75517, 3200000, None),\n",
       " ('Papua New Guinea', 'Asia-Pacific', 462840, 5900000, 3422000000),\n",
       " ('Paraguay', 'South America', 406752, 6200000, None),\n",
       " ('Republic of Congo', 'Africa', 342000, 3039126, None),\n",
       " ('Rwanda', 'Africa', 26338, 8600000, 1892000000),\n",
       " ('Sierra Leone', 'Africa', 71740, 5300000, 1060000000),\n",
       " ('Singapore', 'Asia-Pacific', 660, 4400000, 106568000000),\n",
       " ('Slovakia', 'Europe', 49033, 5400000, 34992000000),\n",
       " ('Slovenia', 'Europe', 20273, 2000000, 29620000000),\n",
       " ('Swaziland', 'Africa', 17364, 1100000, 1826000000),\n",
       " ('Sweden', 'Europe', 449964, 8900000, 318353000000),\n",
       " ('Switzerland', 'Europe', 41284, 7100000, 342433000000),\n",
       " ('Tajikistan', 'Asia-Pacific', 143100, 6300000, None),\n",
       " ('The Gambia', 'Africa', 11295, 1500000, None),\n",
       " ('Togo', 'Africa', 56785, 5100000, 1938000000),\n",
       " ('Trinidad and Tobago', 'Americas', 5128, 1300000, None),\n",
       " ('Tunisia', 'Middle East', 164150, 10000000, 26300000000),\n",
       " ('Turkmenistan', 'Asia-Pacific', 488100, 5000000, None),\n",
       " ('United Arab Emirates', 'Middle East', 77700, 3100000, None),\n",
       " ('Uruguay', 'South America', 176215, 3500000, None)]"
      ]
     },
     "execution_count": 16,
     "metadata": {},
     "output_type": "execute_result"
    }
   ],
   "source": [
    "prebivalstvo(conn, 1000000, 10000000)"
   ]
  },
  {
   "cell_type": "code",
   "execution_count": 17,
   "metadata": {},
   "outputs": [],
   "source": [
    "def prebivalstvo_povrsina(conn, vrednost):\n",
    "    cur = conn.cursor()\n",
    "    try:\n",
    "        cur.execute(\"\"\"\n",
    "              SELECT * FROM bbc\n",
    "               WHERE population >= :vrednost AND\n",
    "                     area >= :vrednost;\n",
    "            \"\"\", {'vrednost': vrednost})\n",
    "        return cur.fetchall()\n",
    "    finally:\n",
    "        cur.close()"
   ]
  },
  {
   "cell_type": "code",
   "execution_count": 18,
   "metadata": {},
   "outputs": [
    {
     "data": {
      "text/plain": [
       "[('Algeria', 'Middle East', 2400000, 32900000, 75012000000),\n",
       " ('Argentina', 'South America', 2800000, 39300000, 146196000000),\n",
       " ('Australia', 'Asia-Pacific', 7700000, 20300000, 546070000000),\n",
       " ('Brazil', 'South America', 8550000, 182800000, 564852000000),\n",
       " ('Canada', 'North America', 9900000, 32000000, 908480000000),\n",
       " ('China', 'Asia-Pacific', 9600000, 1300000000, 1677000000000),\n",
       " ('Democratic Republic of Congo', 'Africa', 2340000, 56000000, 6720000000),\n",
       " ('India', 'South Asia', 3100000, 1100000000, 682000000000),\n",
       " ('Kazakhstan', 'Asia-Pacific', 2700000, 15400000, None),\n",
       " ('Russia', 'Europe', 17000000, 141500000, 482515000000),\n",
       " ('Saudi Arabia', 'Middle East', 2240000, 25600000, 267008000000),\n",
       " ('Sudan', 'Middle East', 2500000, 35000000, 18550000000),\n",
       " ('United States of America',\n",
       "  'North America',\n",
       "  9800000,\n",
       "  295000000,\n",
       "  12213000000000)]"
      ]
     },
     "execution_count": 18,
     "metadata": {},
     "output_type": "execute_result"
    }
   ],
   "source": [
    "prebivalstvo_povrsina(conn, 2000000)"
   ]
  },
  {
   "cell_type": "code",
   "execution_count": 19,
   "metadata": {},
   "outputs": [],
   "source": [
    "conn.close()"
   ]
  },
  {
   "cell_type": "markdown",
   "metadata": {},
   "source": [
    "# SQL injection\n",
    "\n",
    "Če nismo pazljivi pri vstavljanju podatkov v stavke SQL, lahko zlonameren uporabnik doseže, da se izvedejo ukazi, ki jih razvijalec aplikacije ni predvidel."
   ]
  },
  {
   "cell_type": "markdown",
   "metadata": {},
   "source": [
    "Denimo, da imamo v bazi tabelo uporabnikov, ki hrani njihova uporabniška imena, gesla in zastavico, ali gre za administratorja.\n",
    "\n",
    "**Opomba:** v praksi gesel nikoli ne hranimo v bazi v čisti obliki!"
   ]
  },
  {
   "cell_type": "code",
   "execution_count": 20,
   "metadata": {},
   "outputs": [
    {
     "name": "stdout",
     "output_type": "stream",
     "text": [
      "\n",
      "              DROP TABLE IF EXISTS uporabnik;\n",
      "\n",
      "              CREATE TABLE uporabnik (\n",
      "                id              integer PRIMARY KEY AUTOINCREMENT,\n",
      "                uporabnisko_ime text    NOT NULL UNIQUE,\n",
      "                geslo           text    NOT NULL,\n",
      "                admin           integer NOT NULL DEFAULT 0\n",
      "              );\n",
      "BEGIN \n",
      "\n",
      "              INSERT INTO uporabnik (uporabnisko_ime, geslo, admin)\n",
      "              VALUES ('admin', '$kr1wn0G35l0', 1)\n",
      "            \n",
      "\n",
      "              INSERT INTO uporabnik (uporabnisko_ime, geslo, admin)\n",
      "              VALUES ('janez', 'geslo123', 0)\n",
      "            \n",
      "COMMIT\n"
     ]
    }
   ],
   "source": [
    "import sqlite3 as dbapi\n",
    "conn = dbapi.connect(\"testdb.sqlite\")\n",
    "conn.set_trace_callback(print)\n",
    "cur = conn.cursor()\n",
    "\n",
    "try:\n",
    "    with conn:\n",
    "        cur.executescript(\"\"\"\n",
    "              DROP TABLE IF EXISTS uporabnik;\n",
    "              CREATE TABLE uporabnik (\n",
    "                id              integer PRIMARY KEY AUTOINCREMENT,\n",
    "                uporabnisko_ime text    NOT NULL UNIQUE,\n",
    "                geslo           text    NOT NULL,\n",
    "                admin           integer NOT NULL DEFAULT 0\n",
    "              );\n",
    "            \"\"\")\n",
    "        cur.executemany(\"\"\"\n",
    "              INSERT INTO uporabnik (uporabnisko_ime, geslo, admin)\n",
    "              VALUES (?, ?, ?)\n",
    "            \"\"\", [('admin', '$kr1wn0G35l0', 1),\n",
    "                  ('janez', 'geslo123', 0)])\n",
    "finally:\n",
    "    cur.close()"
   ]
  },
  {
   "cell_type": "markdown",
   "metadata": {},
   "source": [
    "Denimo, da s sledečo funkcijo preverjamo podatke, ki jih uporabnik vnese v prijavni obrazec. Ob uspešni prijavi funkcija vrne par `(id, admin)`, kjer je `id` zaporedna številka uporabnika, `admin` pa zastavica, ki pove, ali je uporabnik administrator. Ob neuspešni prijavi (napačno uporabniško ime ali geslo) funkcija vrne `None`."
   ]
  },
  {
   "cell_type": "code",
   "execution_count": 21,
   "metadata": {},
   "outputs": [],
   "source": [
    "def prijava_slaba(conn, uporabnisko_ime, geslo):\n",
    "    cur = conn.cursor()\n",
    "    try:\n",
    "        cur.execute(f\"\"\"\n",
    "              SELECT id, admin FROM uporabnik\n",
    "               WHERE uporabnisko_ime = '{uporabnisko_ime}' AND\n",
    "                     geslo = '{geslo}';\n",
    "            \"\"\")\n",
    "        return cur.fetchone()\n",
    "    finally:\n",
    "        cur.close()"
   ]
  },
  {
   "cell_type": "markdown",
   "metadata": {},
   "source": [
    "Preverimo delovanje funkcije na nekaj primerih."
   ]
  },
  {
   "cell_type": "code",
   "execution_count": 22,
   "metadata": {},
   "outputs": [
    {
     "name": "stdout",
     "output_type": "stream",
     "text": [
      "\n",
      "              SELECT id, admin FROM uporabnik\n",
      "               WHERE uporabnisko_ime = 'janez' AND\n",
      "                     geslo = 'geslo123';\n"
     ]
    },
    {
     "data": {
      "text/plain": [
       "(2, 0)"
      ]
     },
     "execution_count": 22,
     "metadata": {},
     "output_type": "execute_result"
    }
   ],
   "source": [
    "prijava_slaba(conn, 'janez', 'geslo123')"
   ]
  },
  {
   "cell_type": "code",
   "execution_count": 23,
   "metadata": {},
   "outputs": [
    {
     "name": "stdout",
     "output_type": "stream",
     "text": [
      "\n",
      "              SELECT id, admin FROM uporabnik\n",
      "               WHERE uporabnisko_ime = 'janez' AND\n",
      "                     geslo = 'napacno_geslo';\n"
     ]
    }
   ],
   "source": [
    "prijava_slaba(conn, 'janez', 'napacno_geslo')"
   ]
  },
  {
   "cell_type": "code",
   "execution_count": 24,
   "metadata": {},
   "outputs": [
    {
     "name": "stdout",
     "output_type": "stream",
     "text": [
      "\n",
      "              SELECT id, admin FROM uporabnik\n",
      "               WHERE uporabnisko_ime = 'micka' AND\n",
      "                     geslo = 'geslo123';\n"
     ]
    }
   ],
   "source": [
    "prijava_slaba(conn, 'micka', 'geslo123')"
   ]
  },
  {
   "cell_type": "markdown",
   "metadata": {},
   "source": [
    "Ob uporabi zgornje funkcije lahko zlonameren uporabnik sestavi take vhodne podatke, da bo funkcija vrnila podatke uporabnika `admin` z administratorskimi pravicami, čeprav zanj ne pozna gesla."
   ]
  },
  {
   "cell_type": "code",
   "execution_count": 25,
   "metadata": {},
   "outputs": [
    {
     "name": "stdout",
     "output_type": "stream",
     "text": [
      "\n",
      "              SELECT id, admin FROM uporabnik\n",
      "               WHERE uporabnisko_ime = 'admin' OR 0 AND --' AND\n",
      "                     geslo = '';\n"
     ]
    },
    {
     "data": {
      "text/plain": [
       "(1, 1)"
      ]
     },
     "execution_count": 25,
     "metadata": {},
     "output_type": "execute_result"
    }
   ],
   "source": [
    "prijava_slaba(conn, \"admin' OR 0 AND --\", \"\")"
   ]
  },
  {
   "cell_type": "markdown",
   "metadata": {},
   "source": [
    "Tudi, če uporabnik ni zlonameren, lahko morda povzroči napako v delovanju programa."
   ]
  },
  {
   "cell_type": "code",
   "execution_count": 26,
   "metadata": {},
   "outputs": [
    {
     "ename": "OperationalError",
     "evalue": "near \"lce\": syntax error",
     "output_type": "error",
     "traceback": [
      "\u001b[0;31m---------------------------------------------------------------------------\u001b[0m",
      "\u001b[0;31mOperationalError\u001b[0m                          Traceback (most recent call last)",
      "\u001b[0;32m<ipython-input-26-d166320ae54c>\u001b[0m in \u001b[0;36m<module>\u001b[0;34m\u001b[0m\n\u001b[0;32m----> 1\u001b[0;31m \u001b[0mprijava_slaba\u001b[0m\u001b[0;34m(\u001b[0m\u001b[0mconn\u001b[0m\u001b[0;34m,\u001b[0m \u001b[0;34m\"franci\"\u001b[0m\u001b[0;34m,\u001b[0m \u001b[0;34m\"ges'lce\"\u001b[0m\u001b[0;34m)\u001b[0m\u001b[0;34m\u001b[0m\u001b[0;34m\u001b[0m\u001b[0m\n\u001b[0m",
      "\u001b[0;32m<ipython-input-21-309431ea066c>\u001b[0m in \u001b[0;36mprijava_slaba\u001b[0;34m(conn, uporabnisko_ime, geslo)\u001b[0m\n\u001b[1;32m      2\u001b[0m     \u001b[0mcur\u001b[0m \u001b[0;34m=\u001b[0m \u001b[0mconn\u001b[0m\u001b[0;34m.\u001b[0m\u001b[0mcursor\u001b[0m\u001b[0;34m(\u001b[0m\u001b[0;34m)\u001b[0m\u001b[0;34m\u001b[0m\u001b[0;34m\u001b[0m\u001b[0m\n\u001b[1;32m      3\u001b[0m     \u001b[0;32mtry\u001b[0m\u001b[0;34m:\u001b[0m\u001b[0;34m\u001b[0m\u001b[0;34m\u001b[0m\u001b[0m\n\u001b[0;32m----> 4\u001b[0;31m         cur.execute(f\"\"\"\n\u001b[0m\u001b[1;32m      5\u001b[0m               \u001b[0mSELECT\u001b[0m \u001b[0mid\u001b[0m\u001b[0;34m,\u001b[0m \u001b[0madmin\u001b[0m \u001b[0mFROM\u001b[0m \u001b[0muporabnik\u001b[0m\u001b[0;34m\u001b[0m\u001b[0;34m\u001b[0m\u001b[0m\n\u001b[1;32m      6\u001b[0m                \u001b[0mWHERE\u001b[0m \u001b[0muporabnisko_ime\u001b[0m \u001b[0;34m=\u001b[0m \u001b[0;34m'{uporabnisko_ime}'\u001b[0m \u001b[0mAND\u001b[0m\u001b[0;34m\u001b[0m\u001b[0;34m\u001b[0m\u001b[0m\n",
      "\u001b[0;31mOperationalError\u001b[0m: near \"lce\": syntax error"
     ]
    }
   ],
   "source": [
    "prijava_slaba(conn, \"franci\", \"ges'lce\")"
   ]
  },
  {
   "cell_type": "markdown",
   "metadata": {},
   "source": [
    "Zapišimo popravljeno funkcijo za prijavo."
   ]
  },
  {
   "cell_type": "code",
   "execution_count": 27,
   "metadata": {},
   "outputs": [],
   "source": [
    "def prijava_dobra(conn, uporabnisko_ime, geslo):\n",
    "    cur = conn.cursor()\n",
    "    try:\n",
    "        cur.execute(\"\"\"\n",
    "              SELECT id, admin FROM uporabnik\n",
    "               WHERE uporabnisko_ime = ? AND\n",
    "                     geslo = ?;\n",
    "            \"\"\", (uporabnisko_ime, geslo))\n",
    "        return cur.fetchone()\n",
    "    finally:\n",
    "        cur.close()"
   ]
  },
  {
   "cell_type": "code",
   "execution_count": 28,
   "metadata": {},
   "outputs": [
    {
     "name": "stdout",
     "output_type": "stream",
     "text": [
      "\n",
      "              SELECT id, admin FROM uporabnik\n",
      "               WHERE uporabnisko_ime = 'janez' AND\n",
      "                     geslo = 'geslo123';\n"
     ]
    },
    {
     "data": {
      "text/plain": [
       "(2, 0)"
      ]
     },
     "execution_count": 28,
     "metadata": {},
     "output_type": "execute_result"
    }
   ],
   "source": [
    "prijava_dobra(conn, 'janez', 'geslo123')"
   ]
  },
  {
   "cell_type": "code",
   "execution_count": 29,
   "metadata": {},
   "outputs": [
    {
     "name": "stdout",
     "output_type": "stream",
     "text": [
      "\n",
      "              SELECT id, admin FROM uporabnik\n",
      "               WHERE uporabnisko_ime = 'janez' AND\n",
      "                     geslo = 'napacno_geslo';\n"
     ]
    }
   ],
   "source": [
    "prijava_dobra(conn, 'janez', 'napacno_geslo')"
   ]
  },
  {
   "cell_type": "code",
   "execution_count": 30,
   "metadata": {},
   "outputs": [
    {
     "name": "stdout",
     "output_type": "stream",
     "text": [
      "\n",
      "              SELECT id, admin FROM uporabnik\n",
      "               WHERE uporabnisko_ime = 'micka' AND\n",
      "                     geslo = 'geslo123';\n"
     ]
    }
   ],
   "source": [
    "prijava_dobra(conn, 'micka', 'geslo123')"
   ]
  },
  {
   "cell_type": "code",
   "execution_count": 31,
   "metadata": {},
   "outputs": [
    {
     "name": "stdout",
     "output_type": "stream",
     "text": [
      "\n",
      "              SELECT id, admin FROM uporabnik\n",
      "               WHERE uporabnisko_ime = 'admin'' OR 0 AND --' AND\n",
      "                     geslo = '';\n"
     ]
    }
   ],
   "source": [
    "prijava_dobra(conn, \"admin' OR 0 AND --\", \"\")"
   ]
  },
  {
   "cell_type": "code",
   "execution_count": 32,
   "metadata": {},
   "outputs": [
    {
     "name": "stdout",
     "output_type": "stream",
     "text": [
      "\n",
      "              SELECT id, admin FROM uporabnik\n",
      "               WHERE uporabnisko_ime = 'franci' AND\n",
      "                     geslo = 'ges''lce';\n"
     ]
    }
   ],
   "source": [
    "prijava_dobra(conn, \"franci\", \"ges'lce\")"
   ]
  },
  {
   "cell_type": "code",
   "execution_count": 33,
   "metadata": {},
   "outputs": [],
   "source": [
    "conn.close()"
   ]
  }
 ],
 "metadata": {
  "kernelspec": {
   "display_name": "Python 3",
   "language": "python",
   "name": "python3"
  },
  "language_info": {
   "codemirror_mode": {
    "name": "ipython",
    "version": 3
   },
   "file_extension": ".py",
   "mimetype": "text/x-python",
   "name": "python",
   "nbconvert_exporter": "python",
   "pygments_lexer": "ipython3",
   "version": "3.8.10"
  }
 },
 "nbformat": 4,
 "nbformat_minor": 2
}
