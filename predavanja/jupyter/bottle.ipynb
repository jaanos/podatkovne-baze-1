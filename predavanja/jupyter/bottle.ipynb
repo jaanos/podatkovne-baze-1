{
 "cells": [
  {
   "cell_type": "markdown",
   "metadata": {},
   "source": [
    "# Dekoratorji\n",
    "\n",
    "V Pythonu lahko definiramo funkcijo, ki vrača funkcijo."
   ]
  },
  {
   "cell_type": "code",
   "execution_count": null,
   "metadata": {},
   "outputs": [],
   "source": [
    "import time\n",
    "from functools import wraps\n",
    "\n",
    "def stopaj(fun):\n",
    "    @wraps(fun)\n",
    "    def stopaj_fun(*largs, **kwargs):\n",
    "        zacetek = time.time()\n",
    "        rez = fun(*largs, **kwargs)\n",
    "        konec = time.time()\n",
    "        args = ', '.join((*map(str, largs), *(f'{k}={v}' for k, v in kwargs.items())))\n",
    "        print(f\"Klic funkcije {fun.__name__}({args}) je trajal {1000 * (konec - zacetek):.2f} ms.\")\n",
    "        return rez\n",
    "    return stopaj_fun"
   ]
  },
  {
   "cell_type": "code",
   "execution_count": null,
   "metadata": {},
   "outputs": [],
   "source": [
    "@stopaj\n",
    "def vsota_pocasna(n):\n",
    "    \"\"\"\n",
    "    Izračunaj 1 + 2 + ... + n s prištevanjem v zanki for.\n",
    "    \"\"\"\n",
    "    vsota = 0\n",
    "    for i in range(n+1):\n",
    "        vsota += i\n",
    "    return vsota"
   ]
  },
  {
   "cell_type": "code",
   "execution_count": null,
   "metadata": {},
   "outputs": [],
   "source": [
    "@stopaj\n",
    "def vsota_hitra(n):\n",
    "    \"\"\"\n",
    "    Izračunaj 1 + 2 + ... + n s formulo n*(n+1)/2.\n",
    "    \"\"\"\n",
    "    return (n * (n+1)) // 2"
   ]
  },
  {
   "cell_type": "code",
   "execution_count": null,
   "metadata": {},
   "outputs": [],
   "source": [
    "@stopaj\n",
    "def primerjaj(m, n):\n",
    "    return vsota_hitra.__wrapped__(m) == vsota_pocasna.__wrapped__(n)"
   ]
  },
  {
   "cell_type": "code",
   "execution_count": null,
   "metadata": {},
   "outputs": [],
   "source": [
    "vsota_pocasna(10**7)"
   ]
  },
  {
   "cell_type": "code",
   "execution_count": null,
   "metadata": {},
   "outputs": [],
   "source": [
    "vsota_hitra(10**7)"
   ]
  },
  {
   "cell_type": "code",
   "execution_count": null,
   "metadata": {},
   "outputs": [],
   "source": [
    "primerjaj(n=10**7, m=10**6)"
   ]
  },
  {
   "cell_type": "code",
   "execution_count": null,
   "metadata": {},
   "outputs": [],
   "source": [
    "vsota_pocasna??"
   ]
  },
  {
   "cell_type": "markdown",
   "metadata": {},
   "source": [
    "# Knjižnica `bottle`\n",
    "\n",
    "Zapišimo vzorčni spletni vmesnik s knjižnico `bottle`."
   ]
  },
  {
   "cell_type": "code",
   "execution_count": null,
   "metadata": {},
   "outputs": [],
   "source": [
    "import bottle\n",
    "import os\n",
    "\n",
    "SKRIVNOST = 'nekaj, kar bo zelo težko uganiti!!!! djnskfndkjfnsd'\n",
    "BOTTLE_PORT = 8080\n",
    "PREFIX = os.environ.get('JUPYTERHUB_SERVICE_PREFIX')\n",
    "APP_PREFIX = f'{PREFIX}/proxy/{BOTTLE_PORT}' if PREFIX else ''\n",
    "\n",
    "@bottle.get('/static/<datoteka:path>')\n",
    "def static(datoteka):\n",
    "    return bottle.static_file(datoteka, root='static')\n",
    "\n",
    "@bottle.get('/')\n",
    "def index():\n",
    "    uporabnik = bottle.request.get_cookie('uporabnik', secret=SKRIVNOST)\n",
    "    return bottle.template('index.html', uporabnik=uporabnik)\n",
    "\n",
    "@bottle.get('/pozdravi/<ime>/')\n",
    "@bottle.get('/pozdravi/<ime>/<priimek>/')\n",
    "def pozdravi(ime, priimek=None):\n",
    "    imepriimek = ime if priimek is None else f'{ime} {priimek}'\n",
    "    return f'Živjo, <strong>{imepriimek}</strong>!'\n",
    "\n",
    "@bottle.get('/kvadriraj/<n:float>')\n",
    "@bottle.get('/kvadriraj/<n:int>')\n",
    "def kvadriraj(n):\n",
    "    return f'{n}^2 = {n**2}'\n",
    "\n",
    "@bottle.get('/pozdravi_predloga/<ime>/')\n",
    "@bottle.view('pozdravi.html')\n",
    "def pozdravi_predloga(ime):\n",
    "    return dict(ime=ime)\n",
    "\n",
    "@bottle.get('/primer')\n",
    "@bottle.get('/primer/')\n",
    "def primer():\n",
    "    return bottle.template('primer.html')\n",
    "\n",
    "@bottle.get('/obrazec')\n",
    "def obrazec():\n",
    "    uporabnik = bottle.request.get_cookie('uporabnik', secret=SKRIVNOST)\n",
    "    return bottle.template('obrazec.html', uporabnik=uporabnik)\n",
    "\n",
    "@bottle.post('/obrazec/')\n",
    "def obrazec_post():\n",
    "    uporabnik = bottle.request.forms.uporabnik\n",
    "    bottle.response.set_cookie('uporabnik', uporabnik, secret=SKRIVNOST, path='/')\n",
    "    bottle.redirect(APP_PREFIX + '/obrazec')\n",
    "\n",
    "@bottle.post('/odjava/')\n",
    "def odjava():\n",
    "    bottle.response.delete_cookie('uporabnik', path='/')\n",
    "    bottle.redirect(APP_PREFIX + '/obrazec')\n",
    "\n",
    "@bottle.get('/sestej/')\n",
    "def sestej():\n",
    "    try:\n",
    "        a = int(bottle.request.query.a)\n",
    "        b = int(bottle.request.query.b)\n",
    "        return f'{a} + {b} = {a + b}'\n",
    "    except ValueError:\n",
    "        bottle.abort(400, \"Vnesi dve celi števili!\")\n",
    "\n",
    "bottle.BaseTemplate.defaults['povecaj'] = lambda x: x+1\n",
    "\n",
    "if PREFIX:\n",
    "    from IPython.display import display, Markdown\n",
    "    display(Markdown(f\"[Klikni za zagon aplikacije]({APP_PREFIX}/)\"))\n",
    "bottle.run(debug=True, port=BOTTLE_PORT)"
   ]
  },
  {
   "cell_type": "code",
   "execution_count": null,
   "metadata": {},
   "outputs": [],
   "source": [
    "try:\n",
    "    bottle.abort(400, \"Vnesi dve celi števili!\")\n",
    "    print(\"konec\")\n",
    "except:\n",
    "    print(\"zgodila se je izjema\")"
   ]
  }
 ],
 "metadata": {
  "kernelspec": {
   "display_name": "Python 3",
   "language": "python",
   "name": "python3"
  },
  "language_info": {
   "codemirror_mode": {
    "name": "ipython",
    "version": 3
   },
   "file_extension": ".py",
   "mimetype": "text/x-python",
   "name": "python",
   "nbconvert_exporter": "python",
   "pygments_lexer": "ipython3",
   "version": "3.8.10"
  }
 },
 "nbformat": 4,
 "nbformat_minor": 2
}
