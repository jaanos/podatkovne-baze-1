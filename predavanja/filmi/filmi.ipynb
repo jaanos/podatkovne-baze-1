{
 "cells": [
  {
   "cell_type": "markdown",
   "metadata": {},
   "source": [
    "# Filmi - model\n",
    "\n",
    "Preizkusimo naš [model](model.py) za bazo filmov."
   ]
  },
  {
   "cell_type": "code",
   "execution_count": 1,
   "metadata": {},
   "outputs": [],
   "source": [
    "from model import Film, Oseba"
   ]
  },
  {
   "cell_type": "code",
   "execution_count": 2,
   "metadata": {},
   "outputs": [
    {
     "data": {
      "text/plain": [
       "[<model.Film at 0x7f3d98af9730>,\n",
       " <model.Film at 0x7f3d98af95e0>,\n",
       " <model.Film at 0x7f3d98af9550>,\n",
       " <model.Film at 0x7f3d98ae89d0>,\n",
       " <model.Film at 0x7f3d98ae8ac0>,\n",
       " <model.Film at 0x7f3d98b07eb0>,\n",
       " <model.Film at 0x7f3d98b07cd0>,\n",
       " <model.Film at 0x7f3d98b07ee0>,\n",
       " <model.Film at 0x7f3d98b07f40>,\n",
       " <model.Film at 0x7f3d98b07fa0>]"
      ]
     },
     "execution_count": 2,
     "metadata": {},
     "output_type": "execute_result"
    }
   ],
   "source": [
    "naj2000 = Film.najboljsi_v_letu(2000)\n",
    "naj2000"
   ]
  },
  {
   "cell_type": "code",
   "execution_count": 3,
   "metadata": {},
   "outputs": [
    {
     "name": "stdout",
     "output_type": "stream",
     "text": [
      "O Auto da Compadecida\n"
     ]
    }
   ],
   "source": [
    "film = naj2000[0]\n",
    "print(film)"
   ]
  },
  {
   "cell_type": "code",
   "execution_count": 5,
   "metadata": {},
   "outputs": [],
   "source": [
    "film.dolzina = 104"
   ]
  },
  {
   "cell_type": "code",
   "execution_count": 9,
   "metadata": {},
   "outputs": [
    {
     "data": {
      "text/plain": [
       "104"
      ]
     },
     "execution_count": 9,
     "metadata": {},
     "output_type": "execute_result"
    }
   ],
   "source": [
    "film.dolzina"
   ]
  },
  {
   "cell_type": "code",
   "execution_count": 4,
   "metadata": {},
   "outputs": [
    {
     "data": {
      "text/plain": [
       "[(<model.Oseba at 0x7f3d98af9910>, 'I'),\n",
       " (<model.Oseba at 0x7f3d98b007f0>, 'I'),\n",
       " (<model.Oseba at 0x7f3d98b006d0>, 'I'),\n",
       " (<model.Oseba at 0x7f3d98af9670>, 'I'),\n",
       " (<model.Oseba at 0x7f3d982c4370>, 'R')]"
      ]
     },
     "execution_count": 4,
     "metadata": {},
     "output_type": "execute_result"
    }
   ],
   "source": [
    "film.zasedba()"
   ]
  },
  {
   "cell_type": "code",
   "execution_count": 3,
   "metadata": {},
   "outputs": [
    {
     "name": "stdout",
     "output_type": "stream",
     "text": [
      "O Auto da Compadecida 8.6\n",
      "Gladiator 8.5\n",
      "Memento 8.4\n",
      "Rekvijem za sanje 8.3\n",
      "Pljuni in jo stisni 8.3\n",
      "Hera Pheri 8.2\n",
      "Werckmeister harmóniák 8.2\n",
      "Faa yeung nin wa 8.1\n",
      "Yi yi 8.1\n",
      "Pasja ljubezen 8.1\n"
     ]
    }
   ],
   "source": [
    "for film in naj2000:\n",
    "    print(film, film.ocena)"
   ]
  },
  {
   "cell_type": "code",
   "execution_count": 4,
   "metadata": {},
   "outputs": [
    {
     "name": "stdout",
     "output_type": "stream",
     "text": [
      "Al Pacino\n"
     ]
    }
   ],
   "source": [
    "al_pacino, = Oseba.poisci(\"Pacino\")\n",
    "print(al_pacino)"
   ]
  },
  {
   "cell_type": "code",
   "execution_count": 5,
   "metadata": {},
   "outputs": [
    {
     "data": {
      "text/plain": [
       "[('The Panic in Needle Park', 1971, 'I'),\n",
       " ('Boter', 1972, 'I'),\n",
       " ('Strašilo', 1973, 'I'),\n",
       " ('Serpico', 1973, 'I'),\n",
       " ('Boter, II. del', 1974, 'I'),\n",
       " ('Pasje popoldne', 1975, 'I'),\n",
       " ('...and justice for all.', 1979, 'I'),\n",
       " ('Cruising', 1980, 'I'),\n",
       " ('Brazgotinec', 1983, 'I'),\n",
       " ('Morje ljubezni', 1989, 'I'),\n",
       " ('Dick Tracy', 1990, 'I'),\n",
       " ('Boter 3', 1990, 'I'),\n",
       " ('Frankie in Johnny', 1991, 'I'),\n",
       " ('Glengarry Glen Ross', 1992, 'I'),\n",
       " ('Vonj po ženski', 1992, 'I'),\n",
       " ('Carlitov zakon', 1993, 'I'),\n",
       " ('Vročina', 1995, 'I'),\n",
       " ('Mestna hisa', 1996, 'I'),\n",
       " ('Hudicev advokat', 1997, 'I'),\n",
       " ('Donnie Brasco', 1997, 'I'),\n",
       " ('Prebujena vest', 1999, 'I'),\n",
       " ('Za vsako ceno', 1999, 'I'),\n",
       " ('Umetna zvezda', 2002, 'I'),\n",
       " ('People I Know', 2002, 'I'),\n",
       " ('Insomnia', 2002, 'I'),\n",
       " ('Rekrut', 2003, 'I'),\n",
       " ('The Merchant of Venice', 2004, 'I'),\n",
       " ('Vse za denar', 2005, 'I'),\n",
       " ('88 Minutes', 2007, 'I'),\n",
       " ('Pravicni umor', 2008, 'I'),\n",
       " ('Jack in Jill', 2011, 'I'),\n",
       " ('The Son of No One', 2011, 'I'),\n",
       " ('Stand Up Guys', 2012, 'I'),\n",
       " ('Danny Collins', 2015, 'I'),\n",
       " ('Misconduct', 2016, 'I'),\n",
       " ('Hangman', 2017, 'I'),\n",
       " ('The Pirates of Somalia', 2017, 'I')]"
      ]
     },
     "execution_count": 5,
     "metadata": {},
     "output_type": "execute_result"
    }
   ],
   "source": [
    "al_pacino.poisci_vloge()"
   ]
  },
  {
   "cell_type": "markdown",
   "metadata": {},
   "source": [
    "## Tekstovni vmesnik\n",
    "\n",
    "Poženimo [tekstovni vmesnik](tekstovni_vmesnik.py), ki uporablja naš model."
   ]
  },
  {
   "cell_type": "code",
   "execution_count": 1,
   "metadata": {},
   "outputs": [
    {
     "name": "stdout",
     "output_type": "stream",
     "text": [
      "Pozdravljen v bazi filmov!\n",
      "Kaj bi rad delal?\n",
      "1) Iskal osebo\n",
      "2) Pogledal dobre filme\n",
      "3) Šel domov\n",
      "> 1\n",
      "Kdo te zanima? pacino\n",
      "Al Pacino\n",
      "- The Panic in Needle Park (1971, igralec)\n",
      "- Boter (1972, igralec)\n",
      "- Strašilo (1973, igralec)\n",
      "- Serpico (1973, igralec)\n",
      "- Boter, II. del (1974, igralec)\n",
      "- Pasje popoldne (1975, igralec)\n",
      "- ...and justice for all. (1979, igralec)\n",
      "- Cruising (1980, igralec)\n",
      "- Brazgotinec (1983, igralec)\n",
      "- Morje ljubezni (1989, igralec)\n",
      "- Dick Tracy (1990, igralec)\n",
      "- Boter 3 (1990, igralec)\n",
      "- Frankie in Johnny (1991, igralec)\n",
      "- Glengarry Glen Ross (1992, igralec)\n",
      "- Vonj po ženski (1992, igralec)\n",
      "- Carlitov zakon (1993, igralec)\n",
      "- Vročina (1995, igralec)\n",
      "- Mestna hisa (1996, igralec)\n",
      "- Hudicev advokat (1997, igralec)\n",
      "- Donnie Brasco (1997, igralec)\n",
      "- Prebujena vest (1999, igralec)\n",
      "- Za vsako ceno (1999, igralec)\n",
      "- Umetna zvezda (2002, igralec)\n",
      "- People I Know (2002, igralec)\n",
      "- Insomnia (2002, igralec)\n",
      "- Rekrut (2003, igralec)\n",
      "- The Merchant of Venice (2004, igralec)\n",
      "- Vse za denar (2005, igralec)\n",
      "- 88 Minutes (2007, igralec)\n",
      "- Pravicni umor (2008, igralec)\n",
      "- Jack in Jill (2011, igralec)\n",
      "- The Son of No One (2011, igralec)\n",
      "- Stand Up Guys (2012, igralec)\n",
      "- Danny Collins (2015, igralec)\n",
      "- Misconduct (2016, igralec)\n",
      "- Hangman (2017, igralec)\n",
      "- The Pirates of Somalia (2017, igralec)\n",
      "Kaj bi rad delal?\n",
      "1) Iskal osebo\n",
      "2) Pogledal dobre filme\n",
      "3) Šel domov\n",
      "> 2\n",
      "Katero leto te zanima? 2000\n",
      "1) O Auto da Compadecida (8.6/10)\n",
      "2) Gladiator (8.5/10)\n",
      "3) Memento (8.4/10)\n",
      "4) Rekvijem za sanje (8.3/10)\n",
      "5) Pljuni in jo stisni (8.3/10)\n",
      "6) Hera Pheri (8.2/10)\n",
      "7) Werckmeister harmóniák (8.2/10)\n",
      "8) Faa yeung nin wa (8.1/10)\n",
      "9) Yi yi (8.1/10)\n",
      "10) Pasja ljubezen (8.1/10)\n",
      "> 2\n",
      "Gladiator\n",
      "Kaj bi rad delal?\n",
      "1) Iskal osebo\n",
      "2) Pogledal dobre filme\n",
      "3) Šel domov\n",
      "> 3\n",
      "Adijo!\n"
     ]
    }
   ],
   "source": [
    "from tekstovni_vmesnik import glavni_meni\n",
    "glavni_meni()"
   ]
  }
 ],
 "metadata": {
  "kernelspec": {
   "display_name": "Python 3",
   "language": "python",
   "name": "python3"
  },
  "language_info": {
   "codemirror_mode": {
    "name": "ipython",
    "version": 3
   },
   "file_extension": ".py",
   "mimetype": "text/x-python",
   "name": "python",
   "nbconvert_exporter": "python",
   "pygments_lexer": "ipython3",
   "version": "3.8.10"
  }
 },
 "nbformat": 4,
 "nbformat_minor": 2
}
