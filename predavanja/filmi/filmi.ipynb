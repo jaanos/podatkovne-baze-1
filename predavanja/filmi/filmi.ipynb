{
 "cells": [
  {
   "cell_type": "markdown",
   "metadata": {},
   "source": [
    "# Filmi - model\n",
    "\n",
    "Preizkusimo naš [model](model.py) za bazo filmov."
   ]
  },
  {
   "cell_type": "code",
   "execution_count": 1,
   "metadata": {},
   "outputs": [],
   "source": [
    "from model import Film, Oseba, ustvari_bazo"
   ]
  },
  {
   "cell_type": "code",
   "execution_count": 3,
   "metadata": {},
   "outputs": [],
   "source": [
    "ustvari_bazo(pobrisi=True)"
   ]
  },
  {
   "cell_type": "code",
   "execution_count": 3,
   "metadata": {},
   "outputs": [
    {
     "data": {
      "text/plain": [
       "<generator object Film.najboljsi_v_letu at 0x7fc08c5d8c80>"
      ]
     },
     "execution_count": 3,
     "metadata": {},
     "output_type": "execute_result"
    }
   ],
   "source": [
    "naj2000 = Film.najboljsi_v_letu(2000)\n",
    "naj2000"
   ]
  },
  {
   "cell_type": "code",
   "execution_count": 4,
   "metadata": {},
   "outputs": [
    {
     "name": "stdout",
     "output_type": "stream",
     "text": [
      "O Auto da Compadecida\n"
     ]
    }
   ],
   "source": [
    "film = next(naj2000)\n",
    "print(film)"
   ]
  },
  {
   "cell_type": "code",
   "execution_count": 5,
   "metadata": {},
   "outputs": [
    {
     "data": {
      "text/plain": [
       "[Vloga(film=Film(id=271383, naslov='O Auto da Compadecida', dolzina=104, leto=2000, ocena=8.6, metascore=None, glasovi=0, zasluzek=None, oznaka=None, opis=None), oseba=Oseba(id=618690, ime='Matheus Nachtergaele'), tip='I', mesto=1),\n",
       " Vloga(film=Film(id=271383, naslov='O Auto da Compadecida', dolzina=104, leto=2000, ocena=8.6, metascore=None, glasovi=0, zasluzek=None, oznaka=None, opis=None), oseba=Oseba(id=578080, ime='Selton Mello'), tip='I', mesto=2),\n",
       " Vloga(film=Film(id=271383, naslov='O Auto da Compadecida', dolzina=104, leto=2000, ocena=8.6, metascore=None, glasovi=0, zasluzek=None, oznaka=None, opis=None), oseba=Oseba(id=136692, ime='Rogério Cardoso'), tip='I', mesto=3),\n",
       " Vloga(film=Film(id=271383, naslov='O Auto da Compadecida', dolzina=104, leto=2000, ocena=8.6, metascore=None, glasovi=0, zasluzek=None, oznaka=None, opis=None), oseba=Oseba(id=289545, ime='Denise Fraga'), tip='I', mesto=4),\n",
       " Vloga(film=Film(id=271383, naslov='O Auto da Compadecida', dolzina=104, leto=2000, ocena=8.6, metascore=None, glasovi=0, zasluzek=None, oznaka=None, opis=None), oseba=Oseba(id=37136, ime='Guel Arraes'), tip='R', mesto=1)]"
      ]
     },
     "execution_count": 5,
     "metadata": {},
     "output_type": "execute_result"
    }
   ],
   "source": [
    "list(film.zasedba())"
   ]
  },
  {
   "cell_type": "code",
   "execution_count": 6,
   "metadata": {},
   "outputs": [
    {
     "data": {
      "text/plain": [
       "[Film(id=172495, naslov='Gladiator', dolzina=155, leto=2000, ocena=8.5, metascore=None, glasovi=0, zasluzek=None, oznaka=None, opis=None),\n",
       " Film(id=209144, naslov='Memento', dolzina=113, leto=2000, ocena=8.4, metascore=None, glasovi=0, zasluzek=None, oznaka=None, opis=None),\n",
       " Film(id=180093, naslov='Rekvijem za sanje', dolzina=102, leto=2000, ocena=8.3, metascore=None, glasovi=0, zasluzek=None, oznaka=None, opis=None),\n",
       " Film(id=208092, naslov='Pljuni in jo stisni', dolzina=104, leto=2000, ocena=8.3, metascore=None, glasovi=0, zasluzek=None, oznaka=None, opis=None),\n",
       " Film(id=242519, naslov='Hera Pheri', dolzina=156, leto=2000, ocena=8.2, metascore=None, glasovi=0, zasluzek=None, oznaka=None, opis=None),\n",
       " Film(id=249241, naslov='Werckmeister harmóniák', dolzina=145, leto=2000, ocena=8.2, metascore=None, glasovi=0, zasluzek=None, oznaka=None, opis=None),\n",
       " Film(id=118694, naslov='Faa yeung nin wa', dolzina=98, leto=2000, ocena=8.1, metascore=None, glasovi=0, zasluzek=None, oznaka=None, opis=None),\n",
       " Film(id=244316, naslov='Yi yi', dolzina=173, leto=2000, ocena=8.1, metascore=None, glasovi=0, zasluzek=None, oznaka=None, opis=None),\n",
       " Film(id=245712, naslov='Pasja ljubezen', dolzina=154, leto=2000, ocena=8.1, metascore=None, glasovi=0, zasluzek=None, oznaka=None, opis=None)]"
      ]
     },
     "execution_count": 6,
     "metadata": {},
     "output_type": "execute_result"
    }
   ],
   "source": [
    "list(naj2000)"
   ]
  },
  {
   "cell_type": "code",
   "execution_count": 8,
   "metadata": {},
   "outputs": [
    {
     "name": "stdout",
     "output_type": "stream",
     "text": [
      "Vitez teme 9.0\n",
      "Wall-E 8.4\n",
      "A Wednesday 8.2\n",
      "Okuribito 8.1\n",
      "Ai no mukidashi 8.1\n",
      "Gran Torino 8.1\n",
      "Revni milijonar 8.0\n",
      "Aruitemo aruitemo 8.0\n",
      "Vaaranam Aayiram 8.0\n",
      "Yip Man 8.0\n",
      "Kôkaku kidôtai 2.0 8.0\n",
      "The Stoning of Soraya M. 8.0\n",
      "Devrim Arabalari 8.0\n",
      "Iron Man 7.9\n",
      "Morilca na kolektivca 7.9\n"
     ]
    }
   ],
   "source": [
    "for film in Film.najboljsi_v_letu(2008, 15):\n",
    "    print(film, film.ocena)"
   ]
  },
  {
   "cell_type": "code",
   "execution_count": 2,
   "metadata": {},
   "outputs": [
    {
     "name": "stdout",
     "output_type": "stream",
     "text": [
      "Al Pacino\n"
     ]
    }
   ],
   "source": [
    "al_pacino, = Oseba.poisci(\"Pacino\")\n",
    "print(al_pacino)"
   ]
  },
  {
   "cell_type": "code",
   "execution_count": 10,
   "metadata": {},
   "outputs": [
    {
     "data": {
      "text/plain": [
       "[Vloga(film=Film(id=67549, naslov='The Panic in Needle Park', dolzina=None, leto=1971, ocena=None, metascore=None, glasovi=0, zasluzek=None, oznaka=None, opis=None), oseba=Oseba(id=199, ime='Al Pacino'), tip='I', mesto=1),\n",
       " Vloga(film=Film(id=68646, naslov='Boter', dolzina=None, leto=1972, ocena=None, metascore=None, glasovi=0, zasluzek=None, oznaka=None, opis=None), oseba=Oseba(id=199, ime='Al Pacino'), tip='I', mesto=2),\n",
       " Vloga(film=Film(id=70643, naslov='Strašilo', dolzina=None, leto=1973, ocena=None, metascore=None, glasovi=0, zasluzek=None, oznaka=None, opis=None), oseba=Oseba(id=199, ime='Al Pacino'), tip='I', mesto=2),\n",
       " Vloga(film=Film(id=70666, naslov='Serpico', dolzina=None, leto=1973, ocena=None, metascore=None, glasovi=0, zasluzek=None, oznaka=None, opis=None), oseba=Oseba(id=199, ime='Al Pacino'), tip='I', mesto=1),\n",
       " Vloga(film=Film(id=71562, naslov='Boter, II. del', dolzina=None, leto=1974, ocena=None, metascore=None, glasovi=0, zasluzek=None, oznaka=None, opis=None), oseba=Oseba(id=199, ime='Al Pacino'), tip='I', mesto=1),\n",
       " Vloga(film=Film(id=72890, naslov='Pasje popoldne', dolzina=None, leto=1975, ocena=None, metascore=None, glasovi=0, zasluzek=None, oznaka=None, opis=None), oseba=Oseba(id=199, ime='Al Pacino'), tip='I', mesto=1),\n",
       " Vloga(film=Film(id=78718, naslov='...and justice for all.', dolzina=None, leto=1979, ocena=None, metascore=None, glasovi=0, zasluzek=None, oznaka=None, opis=None), oseba=Oseba(id=199, ime='Al Pacino'), tip='I', mesto=1),\n",
       " Vloga(film=Film(id=80569, naslov='Cruising', dolzina=None, leto=1980, ocena=None, metascore=None, glasovi=0, zasluzek=None, oznaka=None, opis=None), oseba=Oseba(id=199, ime='Al Pacino'), tip='I', mesto=1),\n",
       " Vloga(film=Film(id=86250, naslov='Brazgotinec', dolzina=None, leto=1983, ocena=None, metascore=None, glasovi=0, zasluzek=None, oznaka=None, opis=None), oseba=Oseba(id=199, ime='Al Pacino'), tip='I', mesto=1),\n",
       " Vloga(film=Film(id=98273, naslov='Morje ljubezni', dolzina=None, leto=1989, ocena=None, metascore=None, glasovi=0, zasluzek=None, oznaka=None, opis=None), oseba=Oseba(id=199, ime='Al Pacino'), tip='I', mesto=1),\n",
       " Vloga(film=Film(id=99422, naslov='Dick Tracy', dolzina=None, leto=1990, ocena=None, metascore=None, glasovi=0, zasluzek=None, oznaka=None, opis=None), oseba=Oseba(id=199, ime='Al Pacino'), tip='I', mesto=3),\n",
       " Vloga(film=Film(id=99674, naslov='Boter 3', dolzina=None, leto=1990, ocena=None, metascore=None, glasovi=0, zasluzek=None, oznaka=None, opis=None), oseba=Oseba(id=199, ime='Al Pacino'), tip='I', mesto=1),\n",
       " Vloga(film=Film(id=101912, naslov='Frankie in Johnny', dolzina=None, leto=1991, ocena=None, metascore=None, glasovi=0, zasluzek=None, oznaka=None, opis=None), oseba=Oseba(id=199, ime='Al Pacino'), tip='I', mesto=1),\n",
       " Vloga(film=Film(id=104348, naslov='Glengarry Glen Ross', dolzina=None, leto=1992, ocena=None, metascore=None, glasovi=0, zasluzek=None, oznaka=None, opis=None), oseba=Oseba(id=199, ime='Al Pacino'), tip='I', mesto=1),\n",
       " Vloga(film=Film(id=105323, naslov='Vonj po ženski', dolzina=None, leto=1992, ocena=None, metascore=None, glasovi=0, zasluzek=None, oznaka=None, opis=None), oseba=Oseba(id=199, ime='Al Pacino'), tip='I', mesto=1),\n",
       " Vloga(film=Film(id=106519, naslov='Carlitov zakon', dolzina=None, leto=1993, ocena=None, metascore=None, glasovi=0, zasluzek=None, oznaka=None, opis=None), oseba=Oseba(id=199, ime='Al Pacino'), tip='I', mesto=1),\n",
       " Vloga(film=Film(id=113277, naslov='Vročina', dolzina=None, leto=1995, ocena=None, metascore=None, glasovi=0, zasluzek=None, oznaka=None, opis=None), oseba=Oseba(id=199, ime='Al Pacino'), tip='I', mesto=1),\n",
       " Vloga(film=Film(id=115907, naslov='Mestna hisa', dolzina=None, leto=1996, ocena=None, metascore=None, glasovi=0, zasluzek=None, oznaka=None, opis=None), oseba=Oseba(id=199, ime='Al Pacino'), tip='I', mesto=1),\n",
       " Vloga(film=Film(id=118971, naslov='Hudicev advokat', dolzina=None, leto=1997, ocena=None, metascore=None, glasovi=0, zasluzek=None, oznaka=None, opis=None), oseba=Oseba(id=199, ime='Al Pacino'), tip='I', mesto=2),\n",
       " Vloga(film=Film(id=119008, naslov='Donnie Brasco', dolzina=None, leto=1997, ocena=None, metascore=None, glasovi=0, zasluzek=None, oznaka=None, opis=None), oseba=Oseba(id=199, ime='Al Pacino'), tip='I', mesto=1),\n",
       " Vloga(film=Film(id=140352, naslov='Prebujena vest', dolzina=None, leto=1999, ocena=None, metascore=None, glasovi=0, zasluzek=None, oznaka=None, opis=None), oseba=Oseba(id=199, ime='Al Pacino'), tip='I', mesto=2),\n",
       " Vloga(film=Film(id=146838, naslov='Za vsako ceno', dolzina=None, leto=1999, ocena=None, metascore=None, glasovi=0, zasluzek=None, oznaka=None, opis=None), oseba=Oseba(id=199, ime='Al Pacino'), tip='I', mesto=1),\n",
       " Vloga(film=Film(id=258153, naslov='Umetna zvezda', dolzina=None, leto=2002, ocena=None, metascore=None, glasovi=0, zasluzek=None, oznaka=None, opis=None), oseba=Oseba(id=199, ime='Al Pacino'), tip='I', mesto=1),\n",
       " Vloga(film=Film(id=274711, naslov='People I Know', dolzina=None, leto=2002, ocena=None, metascore=None, glasovi=0, zasluzek=None, oznaka=None, opis=None), oseba=Oseba(id=199, ime='Al Pacino'), tip='I', mesto=1),\n",
       " Vloga(film=Film(id=278504, naslov='Insomnia', dolzina=None, leto=2002, ocena=None, metascore=None, glasovi=0, zasluzek=None, oznaka=None, opis=None), oseba=Oseba(id=199, ime='Al Pacino'), tip='I', mesto=1),\n",
       " Vloga(film=Film(id=292506, naslov='Rekrut', dolzina=None, leto=2003, ocena=None, metascore=None, glasovi=0, zasluzek=None, oznaka=None, opis=None), oseba=Oseba(id=199, ime='Al Pacino'), tip='I', mesto=1),\n",
       " Vloga(film=Film(id=379889, naslov='The Merchant of Venice', dolzina=None, leto=2004, ocena=None, metascore=None, glasovi=0, zasluzek=None, oznaka=None, opis=None), oseba=Oseba(id=199, ime='Al Pacino'), tip='I', mesto=1),\n",
       " Vloga(film=Film(id=417217, naslov='Vse za denar', dolzina=None, leto=2005, ocena=None, metascore=None, glasovi=0, zasluzek=None, oznaka=None, opis=None), oseba=Oseba(id=199, ime='Al Pacino'), tip='I', mesto=2),\n",
       " Vloga(film=Film(id=411061, naslov='88 Minutes', dolzina=None, leto=2007, ocena=None, metascore=None, glasovi=0, zasluzek=None, oznaka=None, opis=None), oseba=Oseba(id=199, ime='Al Pacino'), tip='I', mesto=1),\n",
       " Vloga(film=Film(id=1034331, naslov='Pravicni umor', dolzina=None, leto=2008, ocena=None, metascore=None, glasovi=0, zasluzek=None, oznaka=None, opis=None), oseba=Oseba(id=199, ime='Al Pacino'), tip='I', mesto=2),\n",
       " Vloga(film=Film(id=810913, naslov='Jack in Jill', dolzina=None, leto=2011, ocena=None, metascore=None, glasovi=0, zasluzek=None, oznaka=None, opis=None), oseba=Oseba(id=199, ime='Al Pacino'), tip='I', mesto=3),\n",
       " Vloga(film=Film(id=1535612, naslov='The Son of No One', dolzina=None, leto=2011, ocena=None, metascore=None, glasovi=0, zasluzek=None, oznaka=None, opis=None), oseba=Oseba(id=199, ime='Al Pacino'), tip='I', mesto=2),\n",
       " Vloga(film=Film(id=1389096, naslov='Stand Up Guys', dolzina=None, leto=2012, ocena=None, metascore=None, glasovi=0, zasluzek=None, oznaka=None, opis=None), oseba=Oseba(id=199, ime='Al Pacino'), tip='I', mesto=1),\n",
       " Vloga(film=Film(id=1772288, naslov='Danny Collins', dolzina=None, leto=2015, ocena=None, metascore=None, glasovi=0, zasluzek=None, oznaka=None, opis=None), oseba=Oseba(id=199, ime='Al Pacino'), tip='I', mesto=1),\n",
       " Vloga(film=Film(id=3658772, naslov='Misconduct', dolzina=None, leto=2016, ocena=None, metascore=None, glasovi=0, zasluzek=None, oznaka=None, opis=None), oseba=Oseba(id=199, ime='Al Pacino'), tip='I', mesto=3),\n",
       " Vloga(film=Film(id=3011960, naslov='Hangman', dolzina=None, leto=2017, ocena=None, metascore=None, glasovi=0, zasluzek=None, oznaka=None, opis=None), oseba=Oseba(id=199, ime='Al Pacino'), tip='I', mesto=1),\n",
       " Vloga(film=Film(id=5126922, naslov='The Pirates of Somalia', dolzina=None, leto=2017, ocena=None, metascore=None, glasovi=0, zasluzek=None, oznaka=None, opis=None), oseba=Oseba(id=199, ime='Al Pacino'), tip='I', mesto=2)]"
      ]
     },
     "execution_count": 10,
     "metadata": {},
     "output_type": "execute_result"
    }
   ],
   "source": [
    "list(al_pacino.poisci_vloge())"
   ]
  },
  {
   "cell_type": "markdown",
   "metadata": {},
   "source": [
    "## Tekstovni vmesnik\n",
    "\n",
    "Poženimo [tekstovni vmesnik](tekstovni_vmesnik.py), ki uporablja naš model."
   ]
  },
  {
   "cell_type": "code",
   "execution_count": 1,
   "metadata": {},
   "outputs": [
    {
     "name": "stdout",
     "output_type": "stream",
     "text": [
      "Pozdravljen v bazi filmov!\n",
      "Kaj bi rad delal?\n",
      "1) Iskal osebo\n",
      "2) Pogledal dobre filme\n",
      "3) Šel domov\n",
      "> 2\n",
      "Katero leto te zanima? 2003\n",
      "1) Gospodar prstanov: Kraljeva vrnitev (8.9/10)\n",
      "2) Anbe Sivam (8.8/10)\n",
      "3) La meglio gioventù (8.5/10)\n",
      "4) Oldeuboi (8.4/10)\n",
      "5) Munna Bhai M.B.B.S. (8.2/10)\n",
      "6) Maqbool (8.2/10)\n",
      "7) Reševanje malega Nema (8.1/10)\n",
      "8) Ubila bom Billa 1 (8.1/10)\n",
      "9) Spomini na umor (8.1/10)\n",
      "10) Dogville (8.0/10)\n",
      "> 1\n",
      "Gospodar prstanov: Kraljeva vrnitev (2003, 201 min, ocena 8.9/10)\n",
      "- igralec 1: Elijah Wood\n",
      "- igralec 2: Viggo Mortensen\n",
      "- igralec 3: Ian McKellen\n",
      "- igralec 4: Orlando Bloom\n",
      "- režiser 1: Peter Jackson\n",
      "Kaj bi rad delal?\n",
      "1) Iskal osebo\n",
      "2) Pogledal dobre filme\n",
      "3) Šel domov\n",
      "> 3\n",
      "Adijo!\n"
     ]
    }
   ],
   "source": [
    "from tekstovni_vmesnik import glavni_meni\n",
    "glavni_meni()"
   ]
  }
 ],
 "metadata": {
  "kernelspec": {
   "display_name": "Python 3",
   "language": "python",
   "name": "python3"
  },
  "language_info": {
   "codemirror_mode": {
    "name": "ipython",
    "version": 3
   },
   "file_extension": ".py",
   "mimetype": "text/x-python",
   "name": "python",
   "nbconvert_exporter": "python",
   "pygments_lexer": "ipython3",
   "version": "3.8.10"
  }
 },
 "nbformat": 4,
 "nbformat_minor": 2
}
